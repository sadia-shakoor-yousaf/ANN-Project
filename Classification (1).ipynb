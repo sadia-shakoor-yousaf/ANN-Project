{
  "cells": [
    {
      "cell_type": "markdown",
      "metadata": {
        "id": "LVdBpV08f5eJ"
      },
      "source": [
        "# Customer Churn Prediction with PyTorch\n"
      ]
    },
    {
      "cell_type": "code",
      "execution_count": 97,
      "metadata": {
        "id": "h9gkab3F52QO"
      },
      "outputs": [],
      "source": [
        "import torch\n",
        "import torch.nn as nn\n",
        "from torch.utils.data import DataLoader, Dataset, TensorDataset, random_split\n",
        "from torch.nn import functional as F\n",
        "from torch.autograd import Variable\n",
        "import torch.optim as optim\n",
        "from sklearn.datasets import fetch_california_housing\n",
        "import pandas as pd\n",
        "import matplotlib.pyplot as plt"
      ]
    },
    {
      "cell_type": "markdown",
      "metadata": {
        "id": "yqyC1quPgJaq"
      },
      "source": [
        "## 1. Data Loading and Preprocessing\n"
      ]
    },
    {
      "cell_type": "markdown",
      "metadata": {
        "id": "kS7NLdDrg5Yf"
      },
      "source": [
        "### 1.1 Load the Customer Churn Dataset"
      ]
    },
    {
      "cell_type": "code",
      "execution_count": 98,
      "metadata": {
        "id": "mGYAKgx38E3N"
      },
      "outputs": [],
      "source": [
        "customer_churn_data = pd.read_csv('Churn_Modelling.csv')"
      ]
    },
    {
      "cell_type": "markdown",
      "metadata": {
        "id": "SxmnvZJvhKKv"
      },
      "source": [
        "### 1.2 Data Exploration"
      ]
    },
    {
      "cell_type": "code",
      "execution_count": 99,
      "metadata": {
        "colab": {
          "base_uri": "https://localhost:8080/",
          "height": 206
        },
        "id": "szrQWdCvhFnK",
        "outputId": "dc55ca64-f353-4e7d-c2d9-fc74008c6749"
      },
      "outputs": [
        {
          "data": {
            "application/vnd.google.colaboratory.intrinsic+json": {
              "summary": "{\n  \"name\": \"customer_churn_data\",\n  \"rows\": 10000,\n  \"fields\": [\n    {\n      \"column\": \"RowNumber\",\n      \"properties\": {\n        \"dtype\": \"number\",\n        \"std\": 2886,\n        \"min\": 1,\n        \"max\": 10000,\n        \"num_unique_values\": 10000,\n        \"samples\": [\n          6253,\n          4685,\n          1732\n        ],\n        \"semantic_type\": \"\",\n        \"description\": \"\"\n      }\n    },\n    {\n      \"column\": \"CustomerId\",\n      \"properties\": {\n        \"dtype\": \"number\",\n        \"std\": 71936,\n        \"min\": 15565701,\n        \"max\": 15815690,\n        \"num_unique_values\": 10000,\n        \"samples\": [\n          15687492,\n          15736963,\n          15721730\n        ],\n        \"semantic_type\": \"\",\n        \"description\": \"\"\n      }\n    },\n    {\n      \"column\": \"Surname\",\n      \"properties\": {\n        \"dtype\": \"category\",\n        \"num_unique_values\": 2932,\n        \"samples\": [\n          \"McGuirk\",\n          \"Torkelson\",\n          \"Rapuluchukwu\"\n        ],\n        \"semantic_type\": \"\",\n        \"description\": \"\"\n      }\n    },\n    {\n      \"column\": \"CreditScore\",\n      \"properties\": {\n        \"dtype\": \"number\",\n        \"std\": 96,\n        \"min\": 350,\n        \"max\": 850,\n        \"num_unique_values\": 460,\n        \"samples\": [\n          754,\n          533,\n          744\n        ],\n        \"semantic_type\": \"\",\n        \"description\": \"\"\n      }\n    },\n    {\n      \"column\": \"Geography\",\n      \"properties\": {\n        \"dtype\": \"category\",\n        \"num_unique_values\": 3,\n        \"samples\": [\n          \"France\",\n          \"Spain\",\n          \"Germany\"\n        ],\n        \"semantic_type\": \"\",\n        \"description\": \"\"\n      }\n    },\n    {\n      \"column\": \"Gender\",\n      \"properties\": {\n        \"dtype\": \"category\",\n        \"num_unique_values\": 2,\n        \"samples\": [\n          \"Male\",\n          \"Female\"\n        ],\n        \"semantic_type\": \"\",\n        \"description\": \"\"\n      }\n    },\n    {\n      \"column\": \"Age\",\n      \"properties\": {\n        \"dtype\": \"number\",\n        \"std\": 10,\n        \"min\": 18,\n        \"max\": 92,\n        \"num_unique_values\": 70,\n        \"samples\": [\n          61,\n          42\n        ],\n        \"semantic_type\": \"\",\n        \"description\": \"\"\n      }\n    },\n    {\n      \"column\": \"Tenure\",\n      \"properties\": {\n        \"dtype\": \"number\",\n        \"std\": 2,\n        \"min\": 0,\n        \"max\": 10,\n        \"num_unique_values\": 11,\n        \"samples\": [\n          6,\n          2\n        ],\n        \"semantic_type\": \"\",\n        \"description\": \"\"\n      }\n    },\n    {\n      \"column\": \"Balance\",\n      \"properties\": {\n        \"dtype\": \"number\",\n        \"std\": 62397.40520238623,\n        \"min\": 0.0,\n        \"max\": 250898.09,\n        \"num_unique_values\": 6382,\n        \"samples\": [\n          117707.18,\n          133050.97\n        ],\n        \"semantic_type\": \"\",\n        \"description\": \"\"\n      }\n    },\n    {\n      \"column\": \"NumOfProducts\",\n      \"properties\": {\n        \"dtype\": \"number\",\n        \"std\": 0,\n        \"min\": 1,\n        \"max\": 4,\n        \"num_unique_values\": 4,\n        \"samples\": [\n          3,\n          4\n        ],\n        \"semantic_type\": \"\",\n        \"description\": \"\"\n      }\n    },\n    {\n      \"column\": \"HasCrCard\",\n      \"properties\": {\n        \"dtype\": \"number\",\n        \"std\": 0,\n        \"min\": 0,\n        \"max\": 1,\n        \"num_unique_values\": 2,\n        \"samples\": [\n          0,\n          1\n        ],\n        \"semantic_type\": \"\",\n        \"description\": \"\"\n      }\n    },\n    {\n      \"column\": \"IsActiveMember\",\n      \"properties\": {\n        \"dtype\": \"number\",\n        \"std\": 0,\n        \"min\": 0,\n        \"max\": 1,\n        \"num_unique_values\": 2,\n        \"samples\": [\n          0,\n          1\n        ],\n        \"semantic_type\": \"\",\n        \"description\": \"\"\n      }\n    },\n    {\n      \"column\": \"EstimatedSalary\",\n      \"properties\": {\n        \"dtype\": \"number\",\n        \"std\": 57510.49281769822,\n        \"min\": 11.58,\n        \"max\": 199992.48,\n        \"num_unique_values\": 9999,\n        \"samples\": [\n          100809.99,\n          95273.73\n        ],\n        \"semantic_type\": \"\",\n        \"description\": \"\"\n      }\n    },\n    {\n      \"column\": \"Exited\",\n      \"properties\": {\n        \"dtype\": \"number\",\n        \"std\": 0,\n        \"min\": 0,\n        \"max\": 1,\n        \"num_unique_values\": 2,\n        \"samples\": [\n          0,\n          1\n        ],\n        \"semantic_type\": \"\",\n        \"description\": \"\"\n      }\n    }\n  ]\n}",
              "type": "dataframe",
              "variable_name": "customer_churn_data"
            },
            "text/html": [
              "\n",
              "  <div id=\"df-79a77954-3c8d-465c-9b12-751053c2532e\" class=\"colab-df-container\">\n",
              "    <div>\n",
              "<style scoped>\n",
              "    .dataframe tbody tr th:only-of-type {\n",
              "        vertical-align: middle;\n",
              "    }\n",
              "\n",
              "    .dataframe tbody tr th {\n",
              "        vertical-align: top;\n",
              "    }\n",
              "\n",
              "    .dataframe thead th {\n",
              "        text-align: right;\n",
              "    }\n",
              "</style>\n",
              "<table border=\"1\" class=\"dataframe\">\n",
              "  <thead>\n",
              "    <tr style=\"text-align: right;\">\n",
              "      <th></th>\n",
              "      <th>RowNumber</th>\n",
              "      <th>CustomerId</th>\n",
              "      <th>Surname</th>\n",
              "      <th>CreditScore</th>\n",
              "      <th>Geography</th>\n",
              "      <th>Gender</th>\n",
              "      <th>Age</th>\n",
              "      <th>Tenure</th>\n",
              "      <th>Balance</th>\n",
              "      <th>NumOfProducts</th>\n",
              "      <th>HasCrCard</th>\n",
              "      <th>IsActiveMember</th>\n",
              "      <th>EstimatedSalary</th>\n",
              "      <th>Exited</th>\n",
              "    </tr>\n",
              "  </thead>\n",
              "  <tbody>\n",
              "    <tr>\n",
              "      <th>0</th>\n",
              "      <td>1</td>\n",
              "      <td>15634602</td>\n",
              "      <td>Hargrave</td>\n",
              "      <td>619</td>\n",
              "      <td>France</td>\n",
              "      <td>Female</td>\n",
              "      <td>42</td>\n",
              "      <td>2</td>\n",
              "      <td>0.00</td>\n",
              "      <td>1</td>\n",
              "      <td>1</td>\n",
              "      <td>1</td>\n",
              "      <td>101348.88</td>\n",
              "      <td>1</td>\n",
              "    </tr>\n",
              "    <tr>\n",
              "      <th>1</th>\n",
              "      <td>2</td>\n",
              "      <td>15647311</td>\n",
              "      <td>Hill</td>\n",
              "      <td>608</td>\n",
              "      <td>Spain</td>\n",
              "      <td>Female</td>\n",
              "      <td>41</td>\n",
              "      <td>1</td>\n",
              "      <td>83807.86</td>\n",
              "      <td>1</td>\n",
              "      <td>0</td>\n",
              "      <td>1</td>\n",
              "      <td>112542.58</td>\n",
              "      <td>0</td>\n",
              "    </tr>\n",
              "    <tr>\n",
              "      <th>2</th>\n",
              "      <td>3</td>\n",
              "      <td>15619304</td>\n",
              "      <td>Onio</td>\n",
              "      <td>502</td>\n",
              "      <td>France</td>\n",
              "      <td>Female</td>\n",
              "      <td>42</td>\n",
              "      <td>8</td>\n",
              "      <td>159660.80</td>\n",
              "      <td>3</td>\n",
              "      <td>1</td>\n",
              "      <td>0</td>\n",
              "      <td>113931.57</td>\n",
              "      <td>1</td>\n",
              "    </tr>\n",
              "    <tr>\n",
              "      <th>3</th>\n",
              "      <td>4</td>\n",
              "      <td>15701354</td>\n",
              "      <td>Boni</td>\n",
              "      <td>699</td>\n",
              "      <td>France</td>\n",
              "      <td>Female</td>\n",
              "      <td>39</td>\n",
              "      <td>1</td>\n",
              "      <td>0.00</td>\n",
              "      <td>2</td>\n",
              "      <td>0</td>\n",
              "      <td>0</td>\n",
              "      <td>93826.63</td>\n",
              "      <td>0</td>\n",
              "    </tr>\n",
              "    <tr>\n",
              "      <th>4</th>\n",
              "      <td>5</td>\n",
              "      <td>15737888</td>\n",
              "      <td>Mitchell</td>\n",
              "      <td>850</td>\n",
              "      <td>Spain</td>\n",
              "      <td>Female</td>\n",
              "      <td>43</td>\n",
              "      <td>2</td>\n",
              "      <td>125510.82</td>\n",
              "      <td>1</td>\n",
              "      <td>1</td>\n",
              "      <td>1</td>\n",
              "      <td>79084.10</td>\n",
              "      <td>0</td>\n",
              "    </tr>\n",
              "  </tbody>\n",
              "</table>\n",
              "</div>\n",
              "    <div class=\"colab-df-buttons\">\n",
              "\n",
              "  <div class=\"colab-df-container\">\n",
              "    <button class=\"colab-df-convert\" onclick=\"convertToInteractive('df-79a77954-3c8d-465c-9b12-751053c2532e')\"\n",
              "            title=\"Convert this dataframe to an interactive table.\"\n",
              "            style=\"display:none;\">\n",
              "\n",
              "  <svg xmlns=\"http://www.w3.org/2000/svg\" height=\"24px\" viewBox=\"0 -960 960 960\">\n",
              "    <path d=\"M120-120v-720h720v720H120Zm60-500h600v-160H180v160Zm220 220h160v-160H400v160Zm0 220h160v-160H400v160ZM180-400h160v-160H180v160Zm440 0h160v-160H620v160ZM180-180h160v-160H180v160Zm440 0h160v-160H620v160Z\"/>\n",
              "  </svg>\n",
              "    </button>\n",
              "\n",
              "  <style>\n",
              "    .colab-df-container {\n",
              "      display:flex;\n",
              "      gap: 12px;\n",
              "    }\n",
              "\n",
              "    .colab-df-convert {\n",
              "      background-color: #E8F0FE;\n",
              "      border: none;\n",
              "      border-radius: 50%;\n",
              "      cursor: pointer;\n",
              "      display: none;\n",
              "      fill: #1967D2;\n",
              "      height: 32px;\n",
              "      padding: 0 0 0 0;\n",
              "      width: 32px;\n",
              "    }\n",
              "\n",
              "    .colab-df-convert:hover {\n",
              "      background-color: #E2EBFA;\n",
              "      box-shadow: 0px 1px 2px rgba(60, 64, 67, 0.3), 0px 1px 3px 1px rgba(60, 64, 67, 0.15);\n",
              "      fill: #174EA6;\n",
              "    }\n",
              "\n",
              "    .colab-df-buttons div {\n",
              "      margin-bottom: 4px;\n",
              "    }\n",
              "\n",
              "    [theme=dark] .colab-df-convert {\n",
              "      background-color: #3B4455;\n",
              "      fill: #D2E3FC;\n",
              "    }\n",
              "\n",
              "    [theme=dark] .colab-df-convert:hover {\n",
              "      background-color: #434B5C;\n",
              "      box-shadow: 0px 1px 3px 1px rgba(0, 0, 0, 0.15);\n",
              "      filter: drop-shadow(0px 1px 2px rgba(0, 0, 0, 0.3));\n",
              "      fill: #FFFFFF;\n",
              "    }\n",
              "  </style>\n",
              "\n",
              "    <script>\n",
              "      const buttonEl =\n",
              "        document.querySelector('#df-79a77954-3c8d-465c-9b12-751053c2532e button.colab-df-convert');\n",
              "      buttonEl.style.display =\n",
              "        google.colab.kernel.accessAllowed ? 'block' : 'none';\n",
              "\n",
              "      async function convertToInteractive(key) {\n",
              "        const element = document.querySelector('#df-79a77954-3c8d-465c-9b12-751053c2532e');\n",
              "        const dataTable =\n",
              "          await google.colab.kernel.invokeFunction('convertToInteractive',\n",
              "                                                    [key], {});\n",
              "        if (!dataTable) return;\n",
              "\n",
              "        const docLinkHtml = 'Like what you see? Visit the ' +\n",
              "          '<a target=\"_blank\" href=https://colab.research.google.com/notebooks/data_table.ipynb>data table notebook</a>'\n",
              "          + ' to learn more about interactive tables.';\n",
              "        element.innerHTML = '';\n",
              "        dataTable['output_type'] = 'display_data';\n",
              "        await google.colab.output.renderOutput(dataTable, element);\n",
              "        const docLink = document.createElement('div');\n",
              "        docLink.innerHTML = docLinkHtml;\n",
              "        element.appendChild(docLink);\n",
              "      }\n",
              "    </script>\n",
              "  </div>\n",
              "\n",
              "\n",
              "<div id=\"df-c830a669-2934-4c95-a681-d007ac86cce6\">\n",
              "  <button class=\"colab-df-quickchart\" onclick=\"quickchart('df-c830a669-2934-4c95-a681-d007ac86cce6')\"\n",
              "            title=\"Suggest charts\"\n",
              "            style=\"display:none;\">\n",
              "\n",
              "<svg xmlns=\"http://www.w3.org/2000/svg\" height=\"24px\"viewBox=\"0 0 24 24\"\n",
              "     width=\"24px\">\n",
              "    <g>\n",
              "        <path d=\"M19 3H5c-1.1 0-2 .9-2 2v14c0 1.1.9 2 2 2h14c1.1 0 2-.9 2-2V5c0-1.1-.9-2-2-2zM9 17H7v-7h2v7zm4 0h-2V7h2v10zm4 0h-2v-4h2v4z\"/>\n",
              "    </g>\n",
              "</svg>\n",
              "  </button>\n",
              "\n",
              "<style>\n",
              "  .colab-df-quickchart {\n",
              "      --bg-color: #E8F0FE;\n",
              "      --fill-color: #1967D2;\n",
              "      --hover-bg-color: #E2EBFA;\n",
              "      --hover-fill-color: #174EA6;\n",
              "      --disabled-fill-color: #AAA;\n",
              "      --disabled-bg-color: #DDD;\n",
              "  }\n",
              "\n",
              "  [theme=dark] .colab-df-quickchart {\n",
              "      --bg-color: #3B4455;\n",
              "      --fill-color: #D2E3FC;\n",
              "      --hover-bg-color: #434B5C;\n",
              "      --hover-fill-color: #FFFFFF;\n",
              "      --disabled-bg-color: #3B4455;\n",
              "      --disabled-fill-color: #666;\n",
              "  }\n",
              "\n",
              "  .colab-df-quickchart {\n",
              "    background-color: var(--bg-color);\n",
              "    border: none;\n",
              "    border-radius: 50%;\n",
              "    cursor: pointer;\n",
              "    display: none;\n",
              "    fill: var(--fill-color);\n",
              "    height: 32px;\n",
              "    padding: 0;\n",
              "    width: 32px;\n",
              "  }\n",
              "\n",
              "  .colab-df-quickchart:hover {\n",
              "    background-color: var(--hover-bg-color);\n",
              "    box-shadow: 0 1px 2px rgba(60, 64, 67, 0.3), 0 1px 3px 1px rgba(60, 64, 67, 0.15);\n",
              "    fill: var(--button-hover-fill-color);\n",
              "  }\n",
              "\n",
              "  .colab-df-quickchart-complete:disabled,\n",
              "  .colab-df-quickchart-complete:disabled:hover {\n",
              "    background-color: var(--disabled-bg-color);\n",
              "    fill: var(--disabled-fill-color);\n",
              "    box-shadow: none;\n",
              "  }\n",
              "\n",
              "  .colab-df-spinner {\n",
              "    border: 2px solid var(--fill-color);\n",
              "    border-color: transparent;\n",
              "    border-bottom-color: var(--fill-color);\n",
              "    animation:\n",
              "      spin 1s steps(1) infinite;\n",
              "  }\n",
              "\n",
              "  @keyframes spin {\n",
              "    0% {\n",
              "      border-color: transparent;\n",
              "      border-bottom-color: var(--fill-color);\n",
              "      border-left-color: var(--fill-color);\n",
              "    }\n",
              "    20% {\n",
              "      border-color: transparent;\n",
              "      border-left-color: var(--fill-color);\n",
              "      border-top-color: var(--fill-color);\n",
              "    }\n",
              "    30% {\n",
              "      border-color: transparent;\n",
              "      border-left-color: var(--fill-color);\n",
              "      border-top-color: var(--fill-color);\n",
              "      border-right-color: var(--fill-color);\n",
              "    }\n",
              "    40% {\n",
              "      border-color: transparent;\n",
              "      border-right-color: var(--fill-color);\n",
              "      border-top-color: var(--fill-color);\n",
              "    }\n",
              "    60% {\n",
              "      border-color: transparent;\n",
              "      border-right-color: var(--fill-color);\n",
              "    }\n",
              "    80% {\n",
              "      border-color: transparent;\n",
              "      border-right-color: var(--fill-color);\n",
              "      border-bottom-color: var(--fill-color);\n",
              "    }\n",
              "    90% {\n",
              "      border-color: transparent;\n",
              "      border-bottom-color: var(--fill-color);\n",
              "    }\n",
              "  }\n",
              "</style>\n",
              "\n",
              "  <script>\n",
              "    async function quickchart(key) {\n",
              "      const quickchartButtonEl =\n",
              "        document.querySelector('#' + key + ' button');\n",
              "      quickchartButtonEl.disabled = true;  // To prevent multiple clicks.\n",
              "      quickchartButtonEl.classList.add('colab-df-spinner');\n",
              "      try {\n",
              "        const charts = await google.colab.kernel.invokeFunction(\n",
              "            'suggestCharts', [key], {});\n",
              "      } catch (error) {\n",
              "        console.error('Error during call to suggestCharts:', error);\n",
              "      }\n",
              "      quickchartButtonEl.classList.remove('colab-df-spinner');\n",
              "      quickchartButtonEl.classList.add('colab-df-quickchart-complete');\n",
              "    }\n",
              "    (() => {\n",
              "      let quickchartButtonEl =\n",
              "        document.querySelector('#df-c830a669-2934-4c95-a681-d007ac86cce6 button');\n",
              "      quickchartButtonEl.style.display =\n",
              "        google.colab.kernel.accessAllowed ? 'block' : 'none';\n",
              "    })();\n",
              "  </script>\n",
              "</div>\n",
              "\n",
              "    </div>\n",
              "  </div>\n"
            ],
            "text/plain": [
              "   RowNumber  CustomerId   Surname  CreditScore Geography  Gender  Age  \\\n",
              "0          1    15634602  Hargrave          619    France  Female   42   \n",
              "1          2    15647311      Hill          608     Spain  Female   41   \n",
              "2          3    15619304      Onio          502    France  Female   42   \n",
              "3          4    15701354      Boni          699    France  Female   39   \n",
              "4          5    15737888  Mitchell          850     Spain  Female   43   \n",
              "\n",
              "   Tenure    Balance  NumOfProducts  HasCrCard  IsActiveMember  \\\n",
              "0       2       0.00              1          1               1   \n",
              "1       1   83807.86              1          0               1   \n",
              "2       8  159660.80              3          1               0   \n",
              "3       1       0.00              2          0               0   \n",
              "4       2  125510.82              1          1               1   \n",
              "\n",
              "   EstimatedSalary  Exited  \n",
              "0        101348.88       1  \n",
              "1        112542.58       0  \n",
              "2        113931.57       1  \n",
              "3         93826.63       0  \n",
              "4         79084.10       0  "
            ]
          },
          "execution_count": 99,
          "metadata": {},
          "output_type": "execute_result"
        }
      ],
      "source": [
        "customer_churn_data.head()"
      ]
    },
    {
      "cell_type": "code",
      "execution_count": 100,
      "metadata": {
        "colab": {
          "base_uri": "https://localhost:8080/",
          "height": 523
        },
        "id": "wxJS134BACNi",
        "outputId": "5fdb168a-1d25-4868-fa52-fe787f0dc586"
      },
      "outputs": [
        {
          "data": {
            "text/html": [
              "<div>\n",
              "<style scoped>\n",
              "    .dataframe tbody tr th:only-of-type {\n",
              "        vertical-align: middle;\n",
              "    }\n",
              "\n",
              "    .dataframe tbody tr th {\n",
              "        vertical-align: top;\n",
              "    }\n",
              "\n",
              "    .dataframe thead th {\n",
              "        text-align: right;\n",
              "    }\n",
              "</style>\n",
              "<table border=\"1\" class=\"dataframe\">\n",
              "  <thead>\n",
              "    <tr style=\"text-align: right;\">\n",
              "      <th></th>\n",
              "      <th>0</th>\n",
              "    </tr>\n",
              "  </thead>\n",
              "  <tbody>\n",
              "    <tr>\n",
              "      <th>RowNumber</th>\n",
              "      <td>0</td>\n",
              "    </tr>\n",
              "    <tr>\n",
              "      <th>CustomerId</th>\n",
              "      <td>0</td>\n",
              "    </tr>\n",
              "    <tr>\n",
              "      <th>Surname</th>\n",
              "      <td>0</td>\n",
              "    </tr>\n",
              "    <tr>\n",
              "      <th>CreditScore</th>\n",
              "      <td>0</td>\n",
              "    </tr>\n",
              "    <tr>\n",
              "      <th>Geography</th>\n",
              "      <td>0</td>\n",
              "    </tr>\n",
              "    <tr>\n",
              "      <th>Gender</th>\n",
              "      <td>0</td>\n",
              "    </tr>\n",
              "    <tr>\n",
              "      <th>Age</th>\n",
              "      <td>0</td>\n",
              "    </tr>\n",
              "    <tr>\n",
              "      <th>Tenure</th>\n",
              "      <td>0</td>\n",
              "    </tr>\n",
              "    <tr>\n",
              "      <th>Balance</th>\n",
              "      <td>0</td>\n",
              "    </tr>\n",
              "    <tr>\n",
              "      <th>NumOfProducts</th>\n",
              "      <td>0</td>\n",
              "    </tr>\n",
              "    <tr>\n",
              "      <th>HasCrCard</th>\n",
              "      <td>0</td>\n",
              "    </tr>\n",
              "    <tr>\n",
              "      <th>IsActiveMember</th>\n",
              "      <td>0</td>\n",
              "    </tr>\n",
              "    <tr>\n",
              "      <th>EstimatedSalary</th>\n",
              "      <td>0</td>\n",
              "    </tr>\n",
              "    <tr>\n",
              "      <th>Exited</th>\n",
              "      <td>0</td>\n",
              "    </tr>\n",
              "  </tbody>\n",
              "</table>\n",
              "</div><br><label><b>dtype:</b> int64</label>"
            ],
            "text/plain": [
              "RowNumber          0\n",
              "CustomerId         0\n",
              "Surname            0\n",
              "CreditScore        0\n",
              "Geography          0\n",
              "Gender             0\n",
              "Age                0\n",
              "Tenure             0\n",
              "Balance            0\n",
              "NumOfProducts      0\n",
              "HasCrCard          0\n",
              "IsActiveMember     0\n",
              "EstimatedSalary    0\n",
              "Exited             0\n",
              "dtype: int64"
            ]
          },
          "execution_count": 100,
          "metadata": {},
          "output_type": "execute_result"
        }
      ],
      "source": [
        "customer_churn_data.isnull().sum()"
      ]
    },
    {
      "cell_type": "code",
      "execution_count": 101,
      "metadata": {
        "colab": {
          "base_uri": "https://localhost:8080/",
          "height": 178
        },
        "id": "cLem6aTez5ug",
        "outputId": "d71091c0-e600-4f64-ce28-c9e7b202b352"
      },
      "outputs": [
        {
          "data": {
            "text/html": [
              "<div>\n",
              "<style scoped>\n",
              "    .dataframe tbody tr th:only-of-type {\n",
              "        vertical-align: middle;\n",
              "    }\n",
              "\n",
              "    .dataframe tbody tr th {\n",
              "        vertical-align: top;\n",
              "    }\n",
              "\n",
              "    .dataframe thead th {\n",
              "        text-align: right;\n",
              "    }\n",
              "</style>\n",
              "<table border=\"1\" class=\"dataframe\">\n",
              "  <thead>\n",
              "    <tr style=\"text-align: right;\">\n",
              "      <th></th>\n",
              "      <th>count</th>\n",
              "    </tr>\n",
              "    <tr>\n",
              "      <th>Exited</th>\n",
              "      <th></th>\n",
              "    </tr>\n",
              "  </thead>\n",
              "  <tbody>\n",
              "    <tr>\n",
              "      <th>0</th>\n",
              "      <td>7963</td>\n",
              "    </tr>\n",
              "    <tr>\n",
              "      <th>1</th>\n",
              "      <td>2037</td>\n",
              "    </tr>\n",
              "  </tbody>\n",
              "</table>\n",
              "</div><br><label><b>dtype:</b> int64</label>"
            ],
            "text/plain": [
              "Exited\n",
              "0    7963\n",
              "1    2037\n",
              "Name: count, dtype: int64"
            ]
          },
          "execution_count": 101,
          "metadata": {},
          "output_type": "execute_result"
        }
      ],
      "source": [
        "customer_churn_data['Exited'].value_counts()"
      ]
    },
    {
      "cell_type": "code",
      "execution_count": 102,
      "metadata": {
        "colab": {
          "base_uri": "https://localhost:8080/",
          "height": 209
        },
        "id": "OtAYTJPS0Ed6",
        "outputId": "87c98193-7aac-40fe-ac5b-b5005425ae36"
      },
      "outputs": [
        {
          "data": {
            "text/html": [
              "<div>\n",
              "<style scoped>\n",
              "    .dataframe tbody tr th:only-of-type {\n",
              "        vertical-align: middle;\n",
              "    }\n",
              "\n",
              "    .dataframe tbody tr th {\n",
              "        vertical-align: top;\n",
              "    }\n",
              "\n",
              "    .dataframe thead th {\n",
              "        text-align: right;\n",
              "    }\n",
              "</style>\n",
              "<table border=\"1\" class=\"dataframe\">\n",
              "  <thead>\n",
              "    <tr style=\"text-align: right;\">\n",
              "      <th></th>\n",
              "      <th>count</th>\n",
              "    </tr>\n",
              "    <tr>\n",
              "      <th>Geography</th>\n",
              "      <th></th>\n",
              "    </tr>\n",
              "  </thead>\n",
              "  <tbody>\n",
              "    <tr>\n",
              "      <th>France</th>\n",
              "      <td>5014</td>\n",
              "    </tr>\n",
              "    <tr>\n",
              "      <th>Germany</th>\n",
              "      <td>2509</td>\n",
              "    </tr>\n",
              "    <tr>\n",
              "      <th>Spain</th>\n",
              "      <td>2477</td>\n",
              "    </tr>\n",
              "  </tbody>\n",
              "</table>\n",
              "</div><br><label><b>dtype:</b> int64</label>"
            ],
            "text/plain": [
              "Geography\n",
              "France     5014\n",
              "Germany    2509\n",
              "Spain      2477\n",
              "Name: count, dtype: int64"
            ]
          },
          "execution_count": 102,
          "metadata": {},
          "output_type": "execute_result"
        }
      ],
      "source": [
        "customer_churn_data['Geography'].value_counts()"
      ]
    },
    {
      "cell_type": "code",
      "execution_count": 103,
      "metadata": {
        "colab": {
          "base_uri": "https://localhost:8080/",
          "height": 178
        },
        "id": "Dlhe8SQv0LMm",
        "outputId": "0e6807d1-e557-4499-ca4a-1dcff6b99dab"
      },
      "outputs": [
        {
          "data": {
            "text/html": [
              "<div>\n",
              "<style scoped>\n",
              "    .dataframe tbody tr th:only-of-type {\n",
              "        vertical-align: middle;\n",
              "    }\n",
              "\n",
              "    .dataframe tbody tr th {\n",
              "        vertical-align: top;\n",
              "    }\n",
              "\n",
              "    .dataframe thead th {\n",
              "        text-align: right;\n",
              "    }\n",
              "</style>\n",
              "<table border=\"1\" class=\"dataframe\">\n",
              "  <thead>\n",
              "    <tr style=\"text-align: right;\">\n",
              "      <th></th>\n",
              "      <th>count</th>\n",
              "    </tr>\n",
              "    <tr>\n",
              "      <th>Gender</th>\n",
              "      <th></th>\n",
              "    </tr>\n",
              "  </thead>\n",
              "  <tbody>\n",
              "    <tr>\n",
              "      <th>Male</th>\n",
              "      <td>5457</td>\n",
              "    </tr>\n",
              "    <tr>\n",
              "      <th>Female</th>\n",
              "      <td>4543</td>\n",
              "    </tr>\n",
              "  </tbody>\n",
              "</table>\n",
              "</div><br><label><b>dtype:</b> int64</label>"
            ],
            "text/plain": [
              "Gender\n",
              "Male      5457\n",
              "Female    4543\n",
              "Name: count, dtype: int64"
            ]
          },
          "execution_count": 103,
          "metadata": {},
          "output_type": "execute_result"
        }
      ],
      "source": [
        "customer_churn_data['Gender'].value_counts()"
      ]
    },
    {
      "cell_type": "code",
      "execution_count": 104,
      "metadata": {
        "id": "op0yOsV40sU_"
      },
      "outputs": [],
      "source": [
        "customer_churn_data = pd.get_dummies(customer_churn_data, columns= ['Geography', 'Gender'], drop_first=True)"
      ]
    },
    {
      "cell_type": "markdown",
      "metadata": {
        "id": "MPxl2-QkgnTg"
      },
      "source": [
        "### 1.3 Data Splitting and Scaling\n"
      ]
    },
    {
      "cell_type": "code",
      "execution_count": 105,
      "metadata": {
        "id": "L9BA9Ckv_hCc"
      },
      "outputs": [],
      "source": [
        "X = customer_churn_data.drop(['RowNumber','CustomerId', 'Surname', 'Exited'], axis=1)\n",
        "y = customer_churn_data['Exited']"
      ]
    },
    {
      "cell_type": "code",
      "execution_count": 106,
      "metadata": {
        "id": "mbXUTiwx_oyx"
      },
      "outputs": [],
      "source": [
        "from sklearn.model_selection import train_test_split\n",
        "from sklearn.preprocessing import StandardScaler\n",
        "\n",
        "# Initial split: Train+Validation and Test\n",
        "X_train_val, X_test, y_train_val, y_test = train_test_split(X, y, test_size=0.2, random_state=42)\n",
        "\n",
        "# Second split: Train and Validation\n",
        "X_train, X_val, y_train, y_val = train_test_split(X_train_val, y_train_val, test_size=0.25, random_state=42)\n",
        "scaler = StandardScaler()\n",
        "X_train = scaler.fit_transform(X_train)\n",
        "X_val = scaler.transform(X_val)\n",
        "X_test = scaler.transform(X_test)"
      ]
    },
    {
      "cell_type": "code",
      "execution_count": 107,
      "metadata": {
        "colab": {
          "base_uri": "https://localhost:8080/"
        },
        "id": "IaQa6Q65Lowp",
        "outputId": "c004c38a-3ea9-4226-f479-8c8428e8d0e0"
      },
      "outputs": [
        {
          "name": "stderr",
          "output_type": "stream",
          "text": [
            "/usr/local/lib/python3.10/dist-packages/sklearn/base.py:474: FutureWarning: `BaseEstimator._validate_data` is deprecated in 1.6 and will be removed in 1.7. Use `sklearn.utils.validation.validate_data` instead. This function becomes public and is part of the scikit-learn developer API.\n",
            "  warnings.warn(\n",
            "/usr/local/lib/python3.10/dist-packages/sklearn/utils/_tags.py:354: FutureWarning: The SMOTE or classes from which it inherits use `_get_tags` and `_more_tags`. Please define the `__sklearn_tags__` method, or inherit from `sklearn.base.BaseEstimator` and/or other appropriate mixins such as `sklearn.base.TransformerMixin`, `sklearn.base.ClassifierMixin`, `sklearn.base.RegressorMixin`, and `sklearn.base.OutlierMixin`. From scikit-learn 1.7, not defining `__sklearn_tags__` will raise an error.\n",
            "  warnings.warn(\n"
          ]
        }
      ],
      "source": [
        "from imblearn.over_sampling import SMOTE\n",
        "\n",
        "smote = SMOTE(random_state=42)\n",
        "X_train, y_train = smote.fit_resample(X_train, y_train)"
      ]
    },
    {
      "cell_type": "markdown",
      "metadata": {
        "id": "CrzUn9nGgtt0"
      },
      "source": [
        "## 2. Model Building\n"
      ]
    },
    {
      "cell_type": "markdown",
      "metadata": {
        "id": "-D2j1AuAg0g0"
      },
      "source": [
        "### 2.1 Define the Linear Classification Model"
      ]
    },
    {
      "cell_type": "code",
      "execution_count": 108,
      "metadata": {
        "id": "sQPSrD8cAYjh"
      },
      "outputs": [],
      "source": [
        "class Classification_Model(nn.Module):\n",
        "    def __init__(self, X_features, output_dim):\n",
        "        super(Classification_Model, self).__init__()\n",
        "        self.weights_of_hidden_layer1 = nn.Parameter(torch.tensor(torch.rand(X_features, 16), requires_grad=True))\n",
        "        self.bias_of_hidden_layer1 = nn.Parameter(torch.tensor(torch.rand(16), requires_grad=True))\n",
        "\n",
        "        self.weights_of_hidden_layer2 = nn.Parameter(torch.tensor(torch.rand(16, 8), requires_grad=True))\n",
        "        self.bias_of_hidden_layer2 = nn.Parameter(torch.tensor(torch.rand(8), requires_grad=True))\n",
        "\n",
        "        self.weights_of_output_layer = nn.Parameter(torch.tensor(torch.rand(8, output_dim), requires_grad=True))\n",
        "        self.bias_of_output_layer = nn.Parameter(torch.tensor(torch.rand(output_dim), requires_grad=True))\n",
        "\n",
        "    def forward(self, x):\n",
        "        hidden_layer1_input = torch.matmul(x, self.weights_of_hidden_layer1) + self.bias_of_hidden_layer1\n",
        "        hidden_layer1_output = F.sigmoid(hidden_layer1_input)\n",
        "\n",
        "        hidden_layer2_input = torch.matmul(hidden_layer1_output, self.weights_of_hidden_layer2) + self.bias_of_hidden_layer2\n",
        "        hidden_layer2_output = F.relu(hidden_layer2_input)\n",
        "\n",
        "        output_layer_input = torch.matmul(hidden_layer2_output, self.weights_of_output_layer) + self.bias_of_output_layer\n",
        "        output_layer_output = torch.sigmoid(output_layer_input)\n",
        "\n",
        "        return output_layer_output\n"
      ]
    },
    {
      "cell_type": "markdown",
      "metadata": {
        "id": "UJsGDfY3hsxL"
      },
      "source": [
        "## 3. Model Training"
      ]
    },
    {
      "cell_type": "markdown",
      "metadata": {
        "id": "KsIKAwKwh7iZ"
      },
      "source": [
        "### 3.1 Define the Training Function"
      ]
    },
    {
      "cell_type": "code",
      "execution_count": 109,
      "metadata": {
        "id": "UxHf4UOtH0Pr"
      },
      "outputs": [],
      "source": [
        "def train_model(model, train_data, val_data, n_epoch, training_batch_size, val_batch_size, loss_fn, optimizer):\n",
        "        # init training data loader\n",
        "        train_loader = DataLoader(dataset=train_data, batch_size=training_batch_size, shuffle=True)\n",
        "        val_loader = DataLoader(dataset=val_data, batch_size=val_batch_size, shuffle=False)\n",
        "        # Training loop\n",
        "        train_losses = []\n",
        "        val_losses = []\n",
        "\n",
        "        for epoch in range(n_epoch):\n",
        "            total_train_epoch_loss = 0\n",
        "            total_val_epoch_loss = 0\n",
        "            for x_batch, y_batch in train_loader:  # Process mini-batches\n",
        "                model.train()\n",
        "\n",
        "                # Forward pass\n",
        "                yhat = model(x_batch)\n",
        "                y_batch = y_batch.unsqueeze(1)\n",
        "                loss = loss_fn(yhat, y_batch)\n",
        "\n",
        "                # Backward pass\n",
        "                optimizer.zero_grad()\n",
        "                loss.backward()\n",
        "                optimizer.step()\n",
        "\n",
        "                total_train_epoch_loss += loss.item()\n",
        "\n",
        "            avg_train_loss = total_train_epoch_loss / len(train_loader)\n",
        "            # Store train loss\n",
        "            train_losses.append(loss.item())\n",
        "            print(f\"Epoch {epoch+1}, Train Loss: {avg_train_loss:.4f}\", end = '')\n",
        "\n",
        "            with torch.no_grad():\n",
        "                for X_val, y_val in val_loader:\n",
        "                    model.eval()\n",
        "                    yhat = model(X_val)\n",
        "                    y_val = y_val.unsqueeze(1)\n",
        "                    val_loss = loss_fn(yhat, y_val)\n",
        "                    total_val_epoch_loss += val_loss.item()\n",
        "\n",
        "            avg_val_loss = total_val_epoch_loss / len(val_loader)\n",
        "            # Store train loss\n",
        "            val_losses.append(val_loss.item())\n",
        "            print(f\"    Validation Loss: {avg_val_loss:.4f}\")\n",
        "\n",
        "        return train_losses, val_losses"
      ]
    },
    {
      "cell_type": "markdown",
      "metadata": {
        "id": "tdlvecTwiFHW"
      },
      "source": [
        "### 3.2 Create Datasets and Train the Model"
      ]
    },
    {
      "cell_type": "code",
      "execution_count": 110,
      "metadata": {
        "id": "j9eARcr0iIH2"
      },
      "outputs": [],
      "source": [
        "def get_dataset(X, y):\n",
        "    dataset = TensorDataset(torch.from_numpy(X).float(), torch.from_numpy(y.values).float())\n",
        "    return dataset"
      ]
    },
    {
      "cell_type": "code",
      "execution_count": 111,
      "metadata": {
        "id": "FmM-rmvdix5s"
      },
      "outputs": [],
      "source": [
        "train_data = get_dataset(X_train, y_train)\n",
        "val_data = get_dataset(X_val, y_val)\n",
        "test_data = get_dataset(X_test, y_test)"
      ]
    },
    {
      "cell_type": "code",
      "execution_count": 112,
      "metadata": {
        "colab": {
          "base_uri": "https://localhost:8080/"
        },
        "id": "Gm2B2lk1Sr7c",
        "outputId": "bef41e99-3424-4d6f-f131-10c798b970de"
      },
      "outputs": [
        {
          "data": {
            "text/plain": [
              "<torch._C.Generator at 0x7d050bef4110>"
            ]
          },
          "execution_count": 112,
          "metadata": {},
          "output_type": "execute_result"
        }
      ],
      "source": [
        "torch.manual_seed(42)"
      ]
    },
    {
      "cell_type": "code",
      "execution_count": 113,
      "metadata": {
        "colab": {
          "base_uri": "https://localhost:8080/"
        },
        "id": "hUxGZCOBjREk",
        "outputId": "8ffa44ef-42ef-46ac-93e3-264646531bf2"
      },
      "outputs": [
        {
          "name": "stderr",
          "output_type": "stream",
          "text": [
            "<ipython-input-108-5fddaaa0e640>:4: UserWarning: To copy construct from a tensor, it is recommended to use sourceTensor.clone().detach() or sourceTensor.clone().detach().requires_grad_(True), rather than torch.tensor(sourceTensor).\n",
            "  self.weights_of_hidden_layer1 = nn.Parameter(torch.tensor(torch.rand(X_features, 16), requires_grad=True))\n",
            "<ipython-input-108-5fddaaa0e640>:5: UserWarning: To copy construct from a tensor, it is recommended to use sourceTensor.clone().detach() or sourceTensor.clone().detach().requires_grad_(True), rather than torch.tensor(sourceTensor).\n",
            "  self.bias_of_hidden_layer1 = nn.Parameter(torch.tensor(torch.rand(16), requires_grad=True))\n",
            "<ipython-input-108-5fddaaa0e640>:7: UserWarning: To copy construct from a tensor, it is recommended to use sourceTensor.clone().detach() or sourceTensor.clone().detach().requires_grad_(True), rather than torch.tensor(sourceTensor).\n",
            "  self.weights_of_hidden_layer2 = nn.Parameter(torch.tensor(torch.rand(16, 8), requires_grad=True))\n",
            "<ipython-input-108-5fddaaa0e640>:8: UserWarning: To copy construct from a tensor, it is recommended to use sourceTensor.clone().detach() or sourceTensor.clone().detach().requires_grad_(True), rather than torch.tensor(sourceTensor).\n",
            "  self.bias_of_hidden_layer2 = nn.Parameter(torch.tensor(torch.rand(8), requires_grad=True))\n",
            "<ipython-input-108-5fddaaa0e640>:13: UserWarning: To copy construct from a tensor, it is recommended to use sourceTensor.clone().detach() or sourceTensor.clone().detach().requires_grad_(True), rather than torch.tensor(sourceTensor).\n",
            "  self.weights_of_output_layer = nn.Parameter(torch.tensor(torch.rand(8, output_dim), requires_grad=True))\n",
            "<ipython-input-108-5fddaaa0e640>:14: UserWarning: To copy construct from a tensor, it is recommended to use sourceTensor.clone().detach() or sourceTensor.clone().detach().requires_grad_(True), rather than torch.tensor(sourceTensor).\n",
            "  self.bias_of_output_layer = nn.Parameter(torch.tensor(torch.rand(output_dim), requires_grad=True))\n"
          ]
        },
        {
          "name": "stdout",
          "output_type": "stream",
          "text": [
            "Epoch 1, Train Loss: 17.3597    Validation Loss: 7.4479\n",
            "Epoch 2, Train Loss: 3.4676    Validation Loss: 3.2198\n",
            "Epoch 3, Train Loss: 1.1549    Validation Loss: 0.6045\n",
            "Epoch 4, Train Loss: 0.9156    Validation Loss: 0.5867\n",
            "Epoch 5, Train Loss: 0.7098    Validation Loss: 0.8895\n",
            "Epoch 6, Train Loss: 0.6933    Validation Loss: 0.7513\n",
            "Epoch 7, Train Loss: 0.6586    Validation Loss: 0.6322\n",
            "Epoch 8, Train Loss: 0.6454    Validation Loss: 0.6840\n",
            "Epoch 9, Train Loss: 0.6379    Validation Loss: 0.6620\n",
            "Epoch 10, Train Loss: 0.6307    Validation Loss: 0.6669\n",
            "Epoch 11, Train Loss: 0.6161    Validation Loss: 0.6411\n",
            "Epoch 12, Train Loss: 0.6074    Validation Loss: 0.6207\n",
            "Epoch 13, Train Loss: 0.6009    Validation Loss: 0.6090\n",
            "Epoch 14, Train Loss: 0.6117    Validation Loss: 0.6335\n",
            "Epoch 15, Train Loss: 0.5876    Validation Loss: 0.5605\n",
            "Epoch 16, Train Loss: 0.6039    Validation Loss: 0.6134\n",
            "Epoch 17, Train Loss: 0.5601    Validation Loss: 0.5494\n",
            "Epoch 18, Train Loss: 0.5796    Validation Loss: 0.5789\n",
            "Epoch 19, Train Loss: 0.5694    Validation Loss: 0.5902\n",
            "Epoch 20, Train Loss: 0.5542    Validation Loss: 0.5769\n",
            "Epoch 21, Train Loss: 0.5622    Validation Loss: 0.5693\n",
            "Epoch 22, Train Loss: 0.5421    Validation Loss: 0.5710\n",
            "Epoch 23, Train Loss: 0.5438    Validation Loss: 0.5411\n",
            "Epoch 24, Train Loss: 0.5312    Validation Loss: 0.5707\n",
            "Epoch 25, Train Loss: 0.5573    Validation Loss: 0.5461\n",
            "Epoch 26, Train Loss: 0.5282    Validation Loss: 0.5704\n",
            "Epoch 27, Train Loss: 0.5258    Validation Loss: 0.5605\n",
            "Epoch 28, Train Loss: 0.5406    Validation Loss: 0.5216\n",
            "Epoch 29, Train Loss: 0.5327    Validation Loss: 0.5684\n",
            "Epoch 30, Train Loss: 0.5680    Validation Loss: 0.5528\n"
          ]
        }
      ],
      "source": [
        "model1 = Classification_Model(X_train.shape[1], 1);\n",
        "optimizer = optim.Adam(model1.parameters(), lr=0.01)\n",
        "loss_fn = nn.BCELoss()\n",
        "train_losses_of_model1, val_losses_of_model1 = train_model(model1, train_data, val_data, n_epoch=30, training_batch_size=int(len(X_train)/10), val_batch_size=int(len(X_train)/10), loss_fn=loss_fn, optimizer=optimizer)"
      ]
    },
    {
      "cell_type": "markdown",
      "metadata": {
        "id": "4AlvMAD5jhDk"
      },
      "source": [
        "## 4. Model Evaluation"
      ]
    },
    {
      "cell_type": "markdown",
      "metadata": {
        "id": "P4n_8U1cjqwt"
      },
      "source": [
        "### 4.1 Define the Evaluation Function"
      ]
    },
    {
      "cell_type": "code",
      "execution_count": 114,
      "metadata": {
        "id": "0BgavvJ4dCCO"
      },
      "outputs": [],
      "source": [
        "# Evaluation function\n",
        "from sklearn.metrics import classification_report, confusion_matrix, accuracy_score\n",
        "def evaluate_model(model, test_data):\n",
        "\n",
        "    test_loader = DataLoader(dataset=test_data, batch_size=len(test_data), shuffle=False)\n",
        "    model.eval()\n",
        "    predictions = []\n",
        "    targets = []\n",
        "    with torch.no_grad():\n",
        "        for inputs, labels in test_loader:\n",
        "            outputs = model(inputs).squeeze() # probabilities\n",
        "            preds = (outputs > 0.5).int()    # Convert to {0,1}\n",
        "            predictions.extend(preds.numpy())\n",
        "            targets.extend(labels.numpy())\n",
        "\n",
        "    print(\"\\nClassification Report:\\n\", classification_report(targets, predictions))\n",
        "    print(\"\\n\\nAccuracy:\", accuracy_score(targets, predictions))\n",
        "\n",
        "    cm = confusion_matrix(targets, predictions)\n",
        "\n",
        "    return cm\n"
      ]
    },
    {
      "cell_type": "markdown",
      "metadata": {
        "id": "0pTz57kCjxcd"
      },
      "source": [
        "### 4.2 Evaluate Model Performance\n"
      ]
    },
    {
      "cell_type": "code",
      "execution_count": 115,
      "metadata": {
        "colab": {
          "base_uri": "https://localhost:8080/"
        },
        "id": "jYHSH-8cj0V-",
        "outputId": "cc510dc3-26f6-40ea-a782-0c50989d9266"
      },
      "outputs": [
        {
          "name": "stdout",
          "output_type": "stream",
          "text": [
            "\n",
            "Classification Report:\n",
            "               precision    recall  f1-score   support\n",
            "\n",
            "         0.0       0.93      0.73      0.82      1607\n",
            "         1.0       0.41      0.76      0.53       393\n",
            "\n",
            "    accuracy                           0.74      2000\n",
            "   macro avg       0.67      0.75      0.68      2000\n",
            "weighted avg       0.83      0.74      0.76      2000\n",
            "\n",
            "\n",
            "\n",
            "Accuracy: 0.7395\n"
          ]
        }
      ],
      "source": [
        "cm = evaluate_model(model1, test_data)\n"
      ]
    },
    {
      "cell_type": "markdown",
      "metadata": {
        "id": "0JuWrsneT7dz"
      },
      "source": [
        "### 4.3 Plot training vs. validation loss"
      ]
    },
    {
      "cell_type": "code",
      "execution_count": 116,
      "metadata": {
        "id": "CwQjVLmPJD4V"
      },
      "outputs": [],
      "source": [
        "import matplotlib.pyplot as plt\n",
        "\n",
        "def plot_loss(train_losses, val_losses, title=\"Training vs. Validation Loss\" ):\n",
        "    plt.figure(figsize=(8, 6))\n",
        "    plt.plot(train_losses, label='Training Loss')\n",
        "    plt.plot(val_losses, label='Validation Loss')\n",
        "\n",
        "    plt.xlabel('Epochs')\n",
        "    plt.ylabel('Loss')\n",
        "    plt.title(title)\n",
        "    plt.legend()\n",
        "    plt.grid(True)\n",
        "    plt.show()\n"
      ]
    },
    {
      "cell_type": "code",
      "execution_count": 117,
      "metadata": {
        "colab": {
          "base_uri": "https://localhost:8080/",
          "height": 564
        },
        "id": "DUBXJF4_JXWJ",
        "outputId": "a8717a2a-7a15-481a-9222-a2844e0cc6e3"
      },
      "outputs": [
        {
          "data": {
            "image/png": "[encoded data removed]",
            "text/plain": [
              "<Figure size 800x600 with 1 Axes>"
            ]
          },
          "metadata": {},
          "output_type": "display_data"
        }
      ],
      "source": [
        "plot_loss(train_losses_of_model1, val_losses_of_model1, title='Training vs. Validation Loss for Model 1')"
      ]
    },
    {
      "cell_type": "markdown",
      "metadata": {
        "id": "SesnLzhaid6D"
      },
      "source": [
        "### 4.4 Plot Confusion Matrix"
      ]
    },
    {
      "cell_type": "code",
      "execution_count": 118,
      "metadata": {
        "id": "esItD9DvT3n3"
      },
      "outputs": [],
      "source": [
        "import seaborn as sns\n",
        "\n",
        "def plot_confusion_matrix(confusion_matrix, title='Confusion Matrix'):\n",
        "\n",
        "    # Plot confusion matrix\n",
        "    plt.figure(figsize=(6, 5))\n",
        "    sns.heatmap(confusion_matrix, annot=True, fmt='d', cmap='Blues',\n",
        "                xticklabels=['Predicted 0', 'Predicted 1'], yticklabels=['Actual 0', 'Actual 1'])\n",
        "\n",
        "    plt.title(title)\n",
        "    plt.xlabel('Predicted')\n",
        "    plt.ylabel('Actual')\n",
        "    plt.show()\n"
      ]
    },
    {
      "cell_type": "code",
      "execution_count": 119,
      "metadata": {
        "colab": {
          "base_uri": "https://localhost:8080/",
          "height": 487
        },
        "id": "DPsSj2FVS4uo",
        "outputId": "6649aab4-7165-4842-a339-789d7d590f93"
      },
      "outputs": [
        {
          "data": {
            "image/png": "[encoded data removed]",
            "text/plain": [
              "<Figure size 600x500 with 2 Axes>"
            ]
          },
          "metadata": {},
          "output_type": "display_data"
        }
      ],
      "source": [
        "plot_confusion_matrix(cm, title='Confusion Matrix for Model 1')"
      ]
    },
    {
      "cell_type": "markdown",
      "metadata": {
        "id": "fUcfo-_dkLzo"
      },
      "source": [
        "## 5. Model Experimentation"
      ]
    },
    {
      "cell_type": "markdown",
      "metadata": {
        "id": "_ds4xDBikPhX"
      },
      "source": [
        "### 5.1 Experiment with Different Hyperparameters"
      ]
    },
    {
      "cell_type": "code",
      "execution_count": 120,
      "metadata": {
        "colab": {
          "base_uri": "https://localhost:8080/"
        },
        "collapsed": true,
        "id": "sw0nRgN9qTVH",
        "outputId": "6f1a7efc-e465-4ae6-8e2c-60b0a5c9d304"
      },
      "outputs": [
        {
          "name": "stderr",
          "output_type": "stream",
          "text": [
            "<ipython-input-108-5fddaaa0e640>:4: UserWarning: To copy construct from a tensor, it is recommended to use sourceTensor.clone().detach() or sourceTensor.clone().detach().requires_grad_(True), rather than torch.tensor(sourceTensor).\n",
            "  self.weights_of_hidden_layer1 = nn.Parameter(torch.tensor(torch.rand(X_features, 16), requires_grad=True))\n",
            "<ipython-input-108-5fddaaa0e640>:5: UserWarning: To copy construct from a tensor, it is recommended to use sourceTensor.clone().detach() or sourceTensor.clone().detach().requires_grad_(True), rather than torch.tensor(sourceTensor).\n",
            "  self.bias_of_hidden_layer1 = nn.Parameter(torch.tensor(torch.rand(16), requires_grad=True))\n",
            "<ipython-input-108-5fddaaa0e640>:7: UserWarning: To copy construct from a tensor, it is recommended to use sourceTensor.clone().detach() or sourceTensor.clone().detach().requires_grad_(True), rather than torch.tensor(sourceTensor).\n",
            "  self.weights_of_hidden_layer2 = nn.Parameter(torch.tensor(torch.rand(16, 8), requires_grad=True))\n",
            "<ipython-input-108-5fddaaa0e640>:8: UserWarning: To copy construct from a tensor, it is recommended to use sourceTensor.clone().detach() or sourceTensor.clone().detach().requires_grad_(True), rather than torch.tensor(sourceTensor).\n",
            "  self.bias_of_hidden_layer2 = nn.Parameter(torch.tensor(torch.rand(8), requires_grad=True))\n",
            "<ipython-input-108-5fddaaa0e640>:13: UserWarning: To copy construct from a tensor, it is recommended to use sourceTensor.clone().detach() or sourceTensor.clone().detach().requires_grad_(True), rather than torch.tensor(sourceTensor).\n",
            "  self.weights_of_output_layer = nn.Parameter(torch.tensor(torch.rand(8, output_dim), requires_grad=True))\n",
            "<ipython-input-108-5fddaaa0e640>:14: UserWarning: To copy construct from a tensor, it is recommended to use sourceTensor.clone().detach() or sourceTensor.clone().detach().requires_grad_(True), rather than torch.tensor(sourceTensor).\n",
            "  self.bias_of_output_layer = nn.Parameter(torch.tensor(torch.rand(output_dim), requires_grad=True))\n"
          ]
        },
        {
          "name": "stdout",
          "output_type": "stream",
          "text": [
            "Epoch 1, Train Loss: 27.5509    Validation Loss: 42.7537\n",
            "Epoch 2, Train Loss: 24.0079    Validation Loss: 22.4013\n",
            "Epoch 3, Train Loss: 7.1879    Validation Loss: 6.1450\n",
            "Epoch 4, Train Loss: 3.0553    Validation Loss: 3.4614\n",
            "Epoch 5, Train Loss: 1.4220    Validation Loss: 1.3981\n",
            "Epoch 6, Train Loss: 0.7912    Validation Loss: 0.6255\n",
            "Epoch 7, Train Loss: 0.8419    Validation Loss: 0.5932\n",
            "Epoch 8, Train Loss: 0.7602    Validation Loss: 0.6688\n",
            "Epoch 9, Train Loss: 0.6477    Validation Loss: 0.8505\n",
            "Epoch 10, Train Loss: 0.7167    Validation Loss: 0.9454\n",
            "Epoch 11, Train Loss: 0.7086    Validation Loss: 0.8368\n",
            "Epoch 12, Train Loss: 0.6732    Validation Loss: 0.7191\n",
            "Epoch 13, Train Loss: 0.6609    Validation Loss: 0.7022\n",
            "Epoch 14, Train Loss: 0.6678    Validation Loss: 0.7063\n",
            "Epoch 15, Train Loss: 0.6783    Validation Loss: 0.6871\n",
            "Epoch 16, Train Loss: 0.6522    Validation Loss: 0.6605\n",
            "Epoch 17, Train Loss: 0.6422    Validation Loss: 0.6429\n",
            "Epoch 18, Train Loss: 0.6496    Validation Loss: 0.6232\n",
            "Epoch 19, Train Loss: 0.6633    Validation Loss: 0.6061\n",
            "Epoch 20, Train Loss: 0.6545    Validation Loss: 0.6578\n",
            "Epoch 21, Train Loss: 0.6502    Validation Loss: 0.6592\n",
            "Epoch 22, Train Loss: 0.5982    Validation Loss: 0.6810\n",
            "Epoch 23, Train Loss: 0.6129    Validation Loss: 0.7560\n",
            "Epoch 24, Train Loss: 0.6566    Validation Loss: 0.7674\n",
            "Epoch 25, Train Loss: 0.6015    Validation Loss: 0.6787\n",
            "Epoch 26, Train Loss: 0.6362    Validation Loss: 0.6344\n",
            "Epoch 27, Train Loss: 0.6114    Validation Loss: 0.5670\n",
            "Epoch 28, Train Loss: 0.6023    Validation Loss: 0.6032\n",
            "Epoch 29, Train Loss: 0.5853    Validation Loss: 0.6766\n",
            "Epoch 30, Train Loss: 0.6196    Validation Loss: 0.7128\n",
            "Epoch 31, Train Loss: 0.5891    Validation Loss: 0.6234\n",
            "Epoch 32, Train Loss: 0.5923    Validation Loss: 0.6245\n",
            "Epoch 33, Train Loss: 0.6238    Validation Loss: 0.6011\n",
            "Epoch 34, Train Loss: 0.5674    Validation Loss: 0.6218\n",
            "Epoch 35, Train Loss: 0.6567    Validation Loss: 0.6835\n",
            "Epoch 36, Train Loss: 0.5598    Validation Loss: 0.6644\n",
            "Epoch 37, Train Loss: 0.5548    Validation Loss: 0.5732\n",
            "Epoch 38, Train Loss: 0.5465    Validation Loss: 0.5674\n",
            "Epoch 39, Train Loss: 0.5832    Validation Loss: 0.5657\n",
            "Epoch 40, Train Loss: 0.5660    Validation Loss: 0.5507\n",
            "Epoch 41, Train Loss: 0.6096    Validation Loss: 0.6061\n",
            "Epoch 42, Train Loss: 0.5355    Validation Loss: 0.5212\n",
            "Epoch 43, Train Loss: 0.6415    Validation Loss: 0.5448\n",
            "Epoch 44, Train Loss: 0.5761    Validation Loss: 0.6943\n",
            "Epoch 45, Train Loss: 0.5200    Validation Loss: 0.6406\n",
            "Epoch 46, Train Loss: 0.6173    Validation Loss: 0.6058\n",
            "Epoch 47, Train Loss: 0.5618    Validation Loss: 0.6015\n",
            "Epoch 48, Train Loss: 0.5428    Validation Loss: 0.5929\n",
            "Epoch 49, Train Loss: 0.5547    Validation Loss: 0.6175\n",
            "Epoch 50, Train Loss: 0.5222    Validation Loss: 0.6530\n",
            "Epoch 51, Train Loss: 0.5070    Validation Loss: 0.6038\n",
            "Epoch 52, Train Loss: 0.5109    Validation Loss: 0.5612\n",
            "Epoch 53, Train Loss: 0.5644    Validation Loss: 0.5665\n",
            "Epoch 54, Train Loss: 0.6020    Validation Loss: 0.6547\n",
            "Epoch 55, Train Loss: 0.5079    Validation Loss: 0.7069\n",
            "Epoch 56, Train Loss: 0.5970    Validation Loss: 0.6573\n",
            "Epoch 57, Train Loss: 0.5762    Validation Loss: 0.5730\n",
            "Epoch 58, Train Loss: 0.5379    Validation Loss: 0.5030\n",
            "Epoch 59, Train Loss: 0.6202    Validation Loss: 0.5061\n",
            "Epoch 60, Train Loss: 0.4895    Validation Loss: 0.6544\n",
            "Epoch 61, Train Loss: 0.5767    Validation Loss: 0.6705\n",
            "Epoch 62, Train Loss: 0.4872    Validation Loss: 0.5292\n",
            "Epoch 63, Train Loss: 0.5260    Validation Loss: 0.4934\n",
            "Epoch 64, Train Loss: 0.6224    Validation Loss: 0.5261\n",
            "Epoch 65, Train Loss: 0.5154    Validation Loss: 0.7386\n",
            "Epoch 66, Train Loss: 0.5323    Validation Loss: 0.7498\n",
            "Epoch 67, Train Loss: 0.5617    Validation Loss: 0.5538\n",
            "Epoch 68, Train Loss: 0.6081    Validation Loss: 0.4827\n",
            "Epoch 69, Train Loss: 0.5707    Validation Loss: 0.5790\n",
            "Epoch 70, Train Loss: 0.5816    Validation Loss: 0.5502\n",
            "Epoch 71, Train Loss: 0.5672    Validation Loss: 0.5815\n",
            "Epoch 72, Train Loss: 0.5209    Validation Loss: 0.5718\n",
            "Epoch 73, Train Loss: 0.5101    Validation Loss: 0.6078\n",
            "Epoch 74, Train Loss: 0.4866    Validation Loss: 0.6009\n",
            "Epoch 75, Train Loss: 0.5133    Validation Loss: 0.5189\n",
            "Epoch 76, Train Loss: 0.5324    Validation Loss: 0.5287\n",
            "Epoch 77, Train Loss: 0.5804    Validation Loss: 0.6020\n",
            "Epoch 78, Train Loss: 0.5424    Validation Loss: 0.5563\n",
            "Epoch 79, Train Loss: 0.4830    Validation Loss: 0.5472\n",
            "Epoch 80, Train Loss: 0.5680    Validation Loss: 0.5573\n",
            "Epoch 81, Train Loss: 0.4880    Validation Loss: 0.7037\n",
            "Epoch 82, Train Loss: 0.6051    Validation Loss: 0.6245\n",
            "Epoch 83, Train Loss: 0.5421    Validation Loss: 0.4708\n",
            "Epoch 84, Train Loss: 0.6032    Validation Loss: 0.4889\n",
            "Epoch 85, Train Loss: 0.5199    Validation Loss: 0.5971\n",
            "Epoch 86, Train Loss: 0.6069    Validation Loss: 0.5455\n",
            "Epoch 87, Train Loss: 0.5367    Validation Loss: 0.4672\n",
            "Epoch 88, Train Loss: 0.4937    Validation Loss: 0.4715\n",
            "Epoch 89, Train Loss: 0.4889    Validation Loss: 0.5391\n",
            "Epoch 90, Train Loss: 0.4613    Validation Loss: 0.5707\n",
            "Epoch 91, Train Loss: 0.4792    Validation Loss: 0.5831\n",
            "Epoch 92, Train Loss: 0.4611    Validation Loss: 0.5730\n",
            "Epoch 93, Train Loss: 0.4898    Validation Loss: 0.5752\n",
            "Epoch 94, Train Loss: 0.5152    Validation Loss: 0.5587\n",
            "Epoch 95, Train Loss: 0.4562    Validation Loss: 0.4843\n",
            "Epoch 96, Train Loss: 0.4744    Validation Loss: 0.4958\n",
            "Epoch 97, Train Loss: 0.5999    Validation Loss: 0.5553\n",
            "Epoch 98, Train Loss: 0.4603    Validation Loss: 0.6877\n",
            "Epoch 99, Train Loss: 0.6082    Validation Loss: 0.5340\n",
            "Epoch 100, Train Loss: 0.5748    Validation Loss: 0.4276\n"
          ]
        }
      ],
      "source": [
        "model2 = Classification_Model(X_train.shape[1], 1);\n",
        "optimizer = optim.Adam(model2.parameters(), lr=0.01)\n",
        "loss_fn = nn.BCELoss()\n",
        "train_losses_of_model2, val_losses_of_model2 = train_model(model2, train_data, val_data, n_epoch=100, training_batch_size=int(len(X_train)/5), val_batch_size=int(len(X_train)/5), loss_fn=loss_fn, optimizer=optimizer)"
      ]
    },
    {
      "cell_type": "code",
      "execution_count": 121,
      "metadata": {
        "colab": {
          "base_uri": "https://localhost:8080/",
          "height": 564
        },
        "id": "mI3e5_2SV813",
        "outputId": "06bf1f8f-7fba-4824-9010-a933603358ce"
      },
      "outputs": [
        {
          "data": {
            "image/png": "[encoded data removed]",
            "text/plain": [
              "<Figure size 800x600 with 1 Axes>"
            ]
          },
          "metadata": {},
          "output_type": "display_data"
        }
      ],
      "source": [
        "plot_loss(train_losses_of_model2, val_losses_of_model2, title='Training vs. Validation Loss for Model 2')"
      ]
    },
    {
      "cell_type": "code",
      "execution_count": 122,
      "metadata": {
        "colab": {
          "base_uri": "https://localhost:8080/"
        },
        "id": "z1FHp_SMq3LX",
        "outputId": "9be3019b-5168-447a-f5d3-1a8fc2a5e353"
      },
      "outputs": [
        {
          "name": "stdout",
          "output_type": "stream",
          "text": [
            "\n",
            "Classification Report:\n",
            "               precision    recall  f1-score   support\n",
            "\n",
            "         0.0       0.88      0.91      0.90      1607\n",
            "         1.0       0.58      0.52      0.55       393\n",
            "\n",
            "    accuracy                           0.83      2000\n",
            "   macro avg       0.73      0.71      0.72      2000\n",
            "weighted avg       0.83      0.83      0.83      2000\n",
            "\n",
            "\n",
            "\n",
            "Accuracy: 0.8325\n"
          ]
        }
      ],
      "source": [
        "cm = evaluate_model(model2, test_data)"
      ]
    },
    {
      "cell_type": "code",
      "execution_count": 123,
      "metadata": {
        "colab": {
          "base_uri": "https://localhost:8080/",
          "height": 487
        },
        "id": "l5nQzHLkJeNh",
        "outputId": "cd66c0b5-176c-4701-8dac-845aa19ee210"
      },
      "outputs": [
        {
          "data": {
            "image/png": "[encoded data removed]",
            "text/plain": [
              "<Figure size 600x500 with 2 Axes>"
            ]
          },
          "metadata": {},
          "output_type": "display_data"
        }
      ],
      "source": [
        "plot_confusion_matrix(cm, title='Confusion Matrix for Model 2')"
      ]
    },
    {
      "cell_type": "code",
      "execution_count": 124,
      "metadata": {
        "colab": {
          "base_uri": "https://localhost:8080/"
        },
        "collapsed": true,
        "id": "bigrpaDqWhBf",
        "outputId": "d3eef4e4-702b-430f-d60b-d7948bb22e3a"
      },
      "outputs": [
        {
          "name": "stderr",
          "output_type": "stream",
          "text": [
            "<ipython-input-108-5fddaaa0e640>:4: UserWarning: To copy construct from a tensor, it is recommended to use sourceTensor.clone().detach() or sourceTensor.clone().detach().requires_grad_(True), rather than torch.tensor(sourceTensor).\n",
            "  self.weights_of_hidden_layer1 = nn.Parameter(torch.tensor(torch.rand(X_features, 16), requires_grad=True))\n",
            "<ipython-input-108-5fddaaa0e640>:5: UserWarning: To copy construct from a tensor, it is recommended to use sourceTensor.clone().detach() or sourceTensor.clone().detach().requires_grad_(True), rather than torch.tensor(sourceTensor).\n",
            "  self.bias_of_hidden_layer1 = nn.Parameter(torch.tensor(torch.rand(16), requires_grad=True))\n",
            "<ipython-input-108-5fddaaa0e640>:7: UserWarning: To copy construct from a tensor, it is recommended to use sourceTensor.clone().detach() or sourceTensor.clone().detach().requires_grad_(True), rather than torch.tensor(sourceTensor).\n",
            "  self.weights_of_hidden_layer2 = nn.Parameter(torch.tensor(torch.rand(16, 8), requires_grad=True))\n",
            "<ipython-input-108-5fddaaa0e640>:8: UserWarning: To copy construct from a tensor, it is recommended to use sourceTensor.clone().detach() or sourceTensor.clone().detach().requires_grad_(True), rather than torch.tensor(sourceTensor).\n",
            "  self.bias_of_hidden_layer2 = nn.Parameter(torch.tensor(torch.rand(8), requires_grad=True))\n",
            "<ipython-input-108-5fddaaa0e640>:13: UserWarning: To copy construct from a tensor, it is recommended to use sourceTensor.clone().detach() or sourceTensor.clone().detach().requires_grad_(True), rather than torch.tensor(sourceTensor).\n",
            "  self.weights_of_output_layer = nn.Parameter(torch.tensor(torch.rand(8, output_dim), requires_grad=True))\n",
            "<ipython-input-108-5fddaaa0e640>:14: UserWarning: To copy construct from a tensor, it is recommended to use sourceTensor.clone().detach() or sourceTensor.clone().detach().requires_grad_(True), rather than torch.tensor(sourceTensor).\n",
            "  self.bias_of_output_layer = nn.Parameter(torch.tensor(torch.rand(output_dim), requires_grad=True))\n"
          ]
        },
        {
          "name": "stdout",
          "output_type": "stream",
          "text": [
            "Epoch 1, Train Loss: 28.0757    Validation Loss: 11.3184\n",
            "Epoch 2, Train Loss: 6.7571    Validation Loss: 3.5188\n",
            "Epoch 3, Train Loss: 2.1776    Validation Loss: 0.5497\n",
            "Epoch 4, Train Loss: 0.7779    Validation Loss: 0.8096\n",
            "Epoch 5, Train Loss: 1.7977    Validation Loss: 0.8163\n",
            "Epoch 6, Train Loss: 1.8063    Validation Loss: 0.6475\n",
            "Epoch 7, Train Loss: 1.3250    Validation Loss: 0.5311\n",
            "Epoch 8, Train Loss: 0.7955    Validation Loss: 0.7945\n",
            "Epoch 9, Train Loss: 0.6779    Validation Loss: 1.2003\n",
            "Epoch 10, Train Loss: 0.8492    Validation Loss: 1.4062\n",
            "Epoch 11, Train Loss: 0.9543    Validation Loss: 1.4250\n",
            "Epoch 12, Train Loss: 0.9637    Validation Loss: 1.3185\n",
            "Epoch 13, Train Loss: 0.9072    Validation Loss: 1.1518\n",
            "Epoch 14, Train Loss: 0.8225    Validation Loss: 0.9781\n",
            "Epoch 15, Train Loss: 0.7419    Validation Loss: 0.8325\n",
            "Epoch 16, Train Loss: 0.6856    Validation Loss: 0.7282\n",
            "Epoch 17, Train Loss: 0.6590    Validation Loss: 0.6617\n",
            "Epoch 18, Train Loss: 0.6552    Validation Loss: 0.6225\n",
            "Epoch 19, Train Loss: 0.6633    Validation Loss: 0.6004\n",
            "Epoch 20, Train Loss: 0.6748    Validation Loss: 0.5884\n",
            "Epoch 21, Train Loss: 0.6848    Validation Loss: 0.5827\n",
            "Epoch 22, Train Loss: 0.6910    Validation Loss: 0.5810\n",
            "Epoch 23, Train Loss: 0.6933    Validation Loss: 0.5824\n",
            "Epoch 24, Train Loss: 0.6924    Validation Loss: 0.5860\n",
            "Epoch 25, Train Loss: 0.6890    Validation Loss: 0.5914\n",
            "Epoch 26, Train Loss: 0.6844    Validation Loss: 0.5982\n",
            "Epoch 27, Train Loss: 0.6791    Validation Loss: 0.6060\n",
            "Epoch 28, Train Loss: 0.6740    Validation Loss: 0.6145\n",
            "Epoch 29, Train Loss: 0.6692    Validation Loss: 0.6233\n",
            "Epoch 30, Train Loss: 0.6650    Validation Loss: 0.6321\n",
            "Epoch 31, Train Loss: 0.6618    Validation Loss: 0.6403\n",
            "Epoch 32, Train Loss: 0.6594    Validation Loss: 0.6479\n",
            "Epoch 33, Train Loss: 0.6573    Validation Loss: 0.6546\n",
            "Epoch 34, Train Loss: 0.6553    Validation Loss: 0.6603\n",
            "Epoch 35, Train Loss: 0.6532    Validation Loss: 0.6651\n",
            "Epoch 36, Train Loss: 0.6510    Validation Loss: 0.6688\n",
            "Epoch 37, Train Loss: 0.6486    Validation Loss: 0.6715\n",
            "Epoch 38, Train Loss: 0.6460    Validation Loss: 0.6733\n",
            "Epoch 39, Train Loss: 0.6432    Validation Loss: 0.6740\n",
            "Epoch 40, Train Loss: 0.6401    Validation Loss: 0.6736\n",
            "Epoch 41, Train Loss: 0.6368    Validation Loss: 0.6719\n",
            "Epoch 42, Train Loss: 0.6332    Validation Loss: 0.6689\n",
            "Epoch 43, Train Loss: 0.6294    Validation Loss: 0.6644\n",
            "Epoch 44, Train Loss: 0.6253    Validation Loss: 0.6586\n",
            "Epoch 45, Train Loss: 0.6211    Validation Loss: 0.6515\n",
            "Epoch 46, Train Loss: 0.6168    Validation Loss: 0.6431\n",
            "Epoch 47, Train Loss: 0.6124    Validation Loss: 0.6338\n",
            "Epoch 48, Train Loss: 0.6081    Validation Loss: 0.6240\n",
            "Epoch 49, Train Loss: 0.6040    Validation Loss: 0.6140\n",
            "Epoch 50, Train Loss: 0.6002    Validation Loss: 0.6043\n",
            "Epoch 51, Train Loss: 0.5968    Validation Loss: 0.5954\n",
            "Epoch 52, Train Loss: 0.5937    Validation Loss: 0.5875\n",
            "Epoch 53, Train Loss: 0.5910    Validation Loss: 0.5810\n",
            "Epoch 54, Train Loss: 0.5884    Validation Loss: 0.5761\n",
            "Epoch 55, Train Loss: 0.5860    Validation Loss: 0.5729\n",
            "Epoch 56, Train Loss: 0.5836    Validation Loss: 0.5714\n",
            "Epoch 57, Train Loss: 0.5812    Validation Loss: 0.5715\n",
            "Epoch 58, Train Loss: 0.5788    Validation Loss: 0.5728\n",
            "Epoch 59, Train Loss: 0.5765    Validation Loss: 0.5748\n",
            "Epoch 60, Train Loss: 0.5744    Validation Loss: 0.5771\n",
            "Epoch 61, Train Loss: 0.5726    Validation Loss: 0.5790\n",
            "Epoch 62, Train Loss: 0.5709    Validation Loss: 0.5801\n",
            "Epoch 63, Train Loss: 0.5695    Validation Loss: 0.5798\n",
            "Epoch 64, Train Loss: 0.5681    Validation Loss: 0.5779\n",
            "Epoch 65, Train Loss: 0.5668    Validation Loss: 0.5746\n",
            "Epoch 66, Train Loss: 0.5654    Validation Loss: 0.5701\n",
            "Epoch 67, Train Loss: 0.5641    Validation Loss: 0.5647\n",
            "Epoch 68, Train Loss: 0.5627    Validation Loss: 0.5591\n",
            "Epoch 69, Train Loss: 0.5615    Validation Loss: 0.5536\n",
            "Epoch 70, Train Loss: 0.5605    Validation Loss: 0.5487\n",
            "Epoch 71, Train Loss: 0.5595    Validation Loss: 0.5449\n",
            "Epoch 72, Train Loss: 0.5586    Validation Loss: 0.5422\n",
            "Epoch 73, Train Loss: 0.5577    Validation Loss: 0.5408\n",
            "Epoch 74, Train Loss: 0.5568    Validation Loss: 0.5404\n",
            "Epoch 75, Train Loss: 0.5558    Validation Loss: 0.5409\n",
            "Epoch 76, Train Loss: 0.5548    Validation Loss: 0.5418\n",
            "Epoch 77, Train Loss: 0.5537    Validation Loss: 0.5428\n",
            "Epoch 78, Train Loss: 0.5525    Validation Loss: 0.5433\n",
            "Epoch 79, Train Loss: 0.5512    Validation Loss: 0.5432\n",
            "Epoch 80, Train Loss: 0.5499    Validation Loss: 0.5422\n",
            "Epoch 81, Train Loss: 0.5483    Validation Loss: 0.5404\n",
            "Epoch 82, Train Loss: 0.5467    Validation Loss: 0.5378\n",
            "Epoch 83, Train Loss: 0.5449    Validation Loss: 0.5348\n",
            "Epoch 84, Train Loss: 0.5431    Validation Loss: 0.5316\n",
            "Epoch 85, Train Loss: 0.5414    Validation Loss: 0.5287\n",
            "Epoch 86, Train Loss: 0.5396    Validation Loss: 0.5262\n",
            "Epoch 87, Train Loss: 0.5380    Validation Loss: 0.5244\n",
            "Epoch 88, Train Loss: 0.5364    Validation Loss: 0.5233\n",
            "Epoch 89, Train Loss: 0.5350    Validation Loss: 0.5228\n",
            "Epoch 90, Train Loss: 0.5336    Validation Loss: 0.5228\n",
            "Epoch 91, Train Loss: 0.5324    Validation Loss: 0.5230\n",
            "Epoch 92, Train Loss: 0.5311    Validation Loss: 0.5231\n",
            "Epoch 93, Train Loss: 0.5300    Validation Loss: 0.5230\n",
            "Epoch 94, Train Loss: 0.5288    Validation Loss: 0.5225\n",
            "Epoch 95, Train Loss: 0.5277    Validation Loss: 0.5214\n",
            "Epoch 96, Train Loss: 0.5266    Validation Loss: 0.5200\n",
            "Epoch 97, Train Loss: 0.5255    Validation Loss: 0.5182\n",
            "Epoch 98, Train Loss: 0.5243    Validation Loss: 0.5163\n",
            "Epoch 99, Train Loss: 0.5232    Validation Loss: 0.5144\n",
            "Epoch 100, Train Loss: 0.5220    Validation Loss: 0.5128\n"
          ]
        }
      ],
      "source": [
        "model3 = Classification_Model(X_train.shape[1], 1);\n",
        "optimizer = optim.Adam(model3.parameters(), lr=0.1)\n",
        "loss_fn = nn.BCELoss()\n",
        "train_losses_of_model3, val_losses_of_model3 = train_model(model3, train_data, val_data, n_epoch=100, training_batch_size=int(len(X_train)), val_batch_size=int(len(X_train)), loss_fn=loss_fn, optimizer=optimizer)"
      ]
    },
    {
      "cell_type": "code",
      "execution_count": 125,
      "metadata": {
        "colab": {
          "base_uri": "https://localhost:8080/",
          "height": 564
        },
        "id": "5aJDV92YVzhb",
        "outputId": "a4afc9c6-3db9-482c-b4a7-31bfde18adec"
      },
      "outputs": [
        {
          "data": {
            "image/png": "[encoded data removed]",
            "text/plain": [
              "<Figure size 800x600 with 1 Axes>"
            ]
          },
          "metadata": {},
          "output_type": "display_data"
        }
      ],
      "source": [
        "plot_loss(train_losses_of_model3, val_losses_of_model3, title='Training vs. Validation Loss for Model 3')"
      ]
    },
    {
      "cell_type": "code",
      "execution_count": 126,
      "metadata": {
        "colab": {
          "base_uri": "https://localhost:8080/"
        },
        "id": "P3imbZTqsT6p",
        "outputId": "1c19bbbe-9a73-492b-d029-241c2cd15c7e"
      },
      "outputs": [
        {
          "name": "stdout",
          "output_type": "stream",
          "text": [
            "\n",
            "Classification Report:\n",
            "               precision    recall  f1-score   support\n",
            "\n",
            "         0.0       0.93      0.73      0.82      1607\n",
            "         1.0       0.41      0.76      0.53       393\n",
            "\n",
            "    accuracy                           0.74      2000\n",
            "   macro avg       0.67      0.75      0.68      2000\n",
            "weighted avg       0.83      0.74      0.76      2000\n",
            "\n",
            "\n",
            "\n",
            "Accuracy: 0.74\n"
          ]
        }
      ],
      "source": [
        "cm = evaluate_model(model3, test_data)"
      ]
    },
    {
      "cell_type": "code",
      "execution_count": 127,
      "metadata": {
        "colab": {
          "base_uri": "https://localhost:8080/",
          "height": 487
        },
        "id": "iRqswXPsJwAL",
        "outputId": "7cafa8df-4f6a-42a9-dd87-fc8281871180"
      },
      "outputs": [
        {
          "data": {
            "image/png": "[encoded data removed]",
            "text/plain": [
              "<Figure size 600x500 with 2 Axes>"
            ]
          },
          "metadata": {},
          "output_type": "display_data"
        }
      ],
      "source": [
        "plot_confusion_matrix(cm, title='Confusion Matrix for Model 3')"
      ]
    },
    {
      "cell_type": "code",
      "execution_count": 127,
      "metadata": {
        "id": "Z5t-cdIqS-WJ"
      },
      "outputs": [],
      "source": []
    }
  ],
  "metadata": {
    "colab": {
      "provenance": []
    },
    "kernelspec": {
      "display_name": "Python 3",
      "name": "python3"
    },
    "language_info": {
      "name": "python"
    }
  },
  "nbformat": 4,
  "nbformat_minor": 0
}
