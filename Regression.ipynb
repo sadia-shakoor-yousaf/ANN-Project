{
  "cells": [
    {
      "cell_type": "markdown",
      "metadata": {
        "id": "LVdBpV08f5eJ"
      },
      "source": [
        "# California Housing Price Prediction with PyTorch\n"
      ]
    },
    {
      "cell_type": "code",
      "execution_count": 54,
      "metadata": {
        "id": "h9gkab3F52QO"
      },
      "outputs": [],
      "source": [
        "import torch\n",
        "import torch.nn as nn\n",
        "from torch.utils.data import DataLoader, Dataset, TensorDataset, random_split\n",
        "from torch.nn import functional as F\n",
        "from torch.autograd import Variable\n",
        "import torch.optim as optim\n",
        "from sklearn.datasets import fetch_california_housing\n",
        "import pandas as pd\n",
        "import matplotlib.pyplot as plt"
      ]
    },
    {
      "cell_type": "markdown",
      "metadata": {
        "id": "yqyC1quPgJaq"
      },
      "source": [
        "## 1. Data Loading and Preprocessing\n"
      ]
    },
    {
      "cell_type": "markdown",
      "metadata": {
        "id": "kS7NLdDrg5Yf"
      },
      "source": [
        "### 1.1 Load the California Housing Dataset"
      ]
    },
    {
      "cell_type": "code",
      "execution_count": 55,
      "metadata": {
        "id": "mGYAKgx38E3N"
      },
      "outputs": [],
      "source": [
        "data = fetch_california_housing()\n"
      ]
    },
    {
      "cell_type": "markdown",
      "metadata": {
        "id": "SxmnvZJvhKKv"
      },
      "source": [
        "### 1.2 Data Exploration"
      ]
    },
    {
      "cell_type": "code",
      "execution_count": 56,
      "metadata": {
        "colab": {
          "base_uri": "https://localhost:8080/",
          "height": 206
        },
        "id": "szrQWdCvhFnK",
        "outputId": "9c01712d-5088-44a7-974f-68e9c8a44da0"
      },
      "outputs": [
        {
          "data": {
            "application/vnd.google.colaboratory.intrinsic+json": {
              "summary": "{\n  \"name\": \"california_housing\",\n  \"rows\": 20640,\n  \"fields\": [\n    {\n      \"column\": \"MedInc\",\n      \"properties\": {\n        \"dtype\": \"number\",\n        \"std\": 1.8998217179452732,\n        \"min\": 0.4999,\n        \"max\": 15.0001,\n        \"num_unique_values\": 12928,\n        \"samples\": [\n          5.0286,\n          2.0433,\n          6.1228\n        ],\n        \"semantic_type\": \"\",\n        \"description\": \"\"\n      }\n    },\n    {\n      \"column\": \"HouseAge\",\n      \"properties\": {\n        \"dtype\": \"number\",\n        \"std\": 12.585557612111637,\n        \"min\": 1.0,\n        \"max\": 52.0,\n        \"num_unique_values\": 52,\n        \"samples\": [\n          35.0,\n          25.0,\n          7.0\n        ],\n        \"semantic_type\": \"\",\n        \"description\": \"\"\n      }\n    },\n    {\n      \"column\": \"AveRooms\",\n      \"properties\": {\n        \"dtype\": \"number\",\n        \"std\": 2.4741731394243205,\n        \"min\": 0.8461538461538461,\n        \"max\": 141.9090909090909,\n        \"num_unique_values\": 19392,\n        \"samples\": [\n          6.111269614835948,\n          5.912820512820513,\n          5.7924528301886795\n        ],\n        \"semantic_type\": \"\",\n        \"description\": \"\"\n      }\n    },\n    {\n      \"column\": \"AveBedrms\",\n      \"properties\": {\n        \"dtype\": \"number\",\n        \"std\": 0.47391085679546435,\n        \"min\": 0.3333333333333333,\n        \"max\": 34.06666666666667,\n        \"num_unique_values\": 14233,\n        \"samples\": [\n          0.9906542056074766,\n          1.112099644128114,\n          1.0398230088495575\n        ],\n        \"semantic_type\": \"\",\n        \"description\": \"\"\n      }\n    },\n    {\n      \"column\": \"Population\",\n      \"properties\": {\n        \"dtype\": \"number\",\n        \"std\": 1132.4621217653375,\n        \"min\": 3.0,\n        \"max\": 35682.0,\n        \"num_unique_values\": 3888,\n        \"samples\": [\n          4169.0,\n          636.0,\n          3367.0\n        ],\n        \"semantic_type\": \"\",\n        \"description\": \"\"\n      }\n    },\n    {\n      \"column\": \"AveOccup\",\n      \"properties\": {\n        \"dtype\": \"number\",\n        \"std\": 10.386049562213591,\n        \"min\": 0.6923076923076923,\n        \"max\": 1243.3333333333333,\n        \"num_unique_values\": 18841,\n        \"samples\": [\n          2.6939799331103678,\n          3.559375,\n          3.297082228116711\n        ],\n        \"semantic_type\": \"\",\n        \"description\": \"\"\n      }\n    },\n    {\n      \"column\": \"Latitude\",\n      \"properties\": {\n        \"dtype\": \"number\",\n        \"std\": 2.1359523974571117,\n        \"min\": 32.54,\n        \"max\": 41.95,\n        \"num_unique_values\": 862,\n        \"samples\": [\n          33.7,\n          34.41,\n          38.24\n        ],\n        \"semantic_type\": \"\",\n        \"description\": \"\"\n      }\n    },\n    {\n      \"column\": \"Longitude\",\n      \"properties\": {\n        \"dtype\": \"number\",\n        \"std\": 2.003531723502581,\n        \"min\": -124.35,\n        \"max\": -114.31,\n        \"num_unique_values\": 844,\n        \"samples\": [\n          -118.63,\n          -119.86,\n          -121.26\n        ],\n        \"semantic_type\": \"\",\n        \"description\": \"\"\n      }\n    },\n    {\n      \"column\": \"MedHouseVal\",\n      \"properties\": {\n        \"dtype\": \"number\",\n        \"std\": 1.1539561587441483,\n        \"min\": 0.14999,\n        \"max\": 5.00001,\n        \"num_unique_values\": 3842,\n        \"samples\": [\n          1.943,\n          3.79,\n          2.301\n        ],\n        \"semantic_type\": \"\",\n        \"description\": \"\"\n      }\n    }\n  ]\n}",
              "type": "dataframe",
              "variable_name": "california_housing"
            },
            "text/html": [
              "\n",
              "  <div id=\"df-b7440dbd-a862-4d71-9e0d-1c2cd79b2e12\" class=\"colab-df-container\">\n",
              "    <div>\n",
              "<style scoped>\n",
              "    .dataframe tbody tr th:only-of-type {\n",
              "        vertical-align: middle;\n",
              "    }\n",
              "\n",
              "    .dataframe tbody tr th {\n",
              "        vertical-align: top;\n",
              "    }\n",
              "\n",
              "    .dataframe thead th {\n",
              "        text-align: right;\n",
              "    }\n",
              "</style>\n",
              "<table border=\"1\" class=\"dataframe\">\n",
              "  <thead>\n",
              "    <tr style=\"text-align: right;\">\n",
              "      <th></th>\n",
              "      <th>MedInc</th>\n",
              "      <th>HouseAge</th>\n",
              "      <th>AveRooms</th>\n",
              "      <th>AveBedrms</th>\n",
              "      <th>Population</th>\n",
              "      <th>AveOccup</th>\n",
              "      <th>Latitude</th>\n",
              "      <th>Longitude</th>\n",
              "      <th>MedHouseVal</th>\n",
              "    </tr>\n",
              "  </thead>\n",
              "  <tbody>\n",
              "    <tr>\n",
              "      <th>0</th>\n",
              "      <td>8.3252</td>\n",
              "      <td>41.0</td>\n",
              "      <td>6.984127</td>\n",
              "      <td>1.023810</td>\n",
              "      <td>322.0</td>\n",
              "      <td>2.555556</td>\n",
              "      <td>37.88</td>\n",
              "      <td>-122.23</td>\n",
              "      <td>4.526</td>\n",
              "    </tr>\n",
              "    <tr>\n",
              "      <th>1</th>\n",
              "      <td>8.3014</td>\n",
              "      <td>21.0</td>\n",
              "      <td>6.238137</td>\n",
              "      <td>0.971880</td>\n",
              "      <td>2401.0</td>\n",
              "      <td>2.109842</td>\n",
              "      <td>37.86</td>\n",
              "      <td>-122.22</td>\n",
              "      <td>3.585</td>\n",
              "    </tr>\n",
              "    <tr>\n",
              "      <th>2</th>\n",
              "      <td>7.2574</td>\n",
              "      <td>52.0</td>\n",
              "      <td>8.288136</td>\n",
              "      <td>1.073446</td>\n",
              "      <td>496.0</td>\n",
              "      <td>2.802260</td>\n",
              "      <td>37.85</td>\n",
              "      <td>-122.24</td>\n",
              "      <td>3.521</td>\n",
              "    </tr>\n",
              "    <tr>\n",
              "      <th>3</th>\n",
              "      <td>5.6431</td>\n",
              "      <td>52.0</td>\n",
              "      <td>5.817352</td>\n",
              "      <td>1.073059</td>\n",
              "      <td>558.0</td>\n",
              "      <td>2.547945</td>\n",
              "      <td>37.85</td>\n",
              "      <td>-122.25</td>\n",
              "      <td>3.413</td>\n",
              "    </tr>\n",
              "    <tr>\n",
              "      <th>4</th>\n",
              "      <td>3.8462</td>\n",
              "      <td>52.0</td>\n",
              "      <td>6.281853</td>\n",
              "      <td>1.081081</td>\n",
              "      <td>565.0</td>\n",
              "      <td>2.181467</td>\n",
              "      <td>37.85</td>\n",
              "      <td>-122.25</td>\n",
              "      <td>3.422</td>\n",
              "    </tr>\n",
              "  </tbody>\n",
              "</table>\n",
              "</div>\n",
              "    <div class=\"colab-df-buttons\">\n",
              "\n",
              "  <div class=\"colab-df-container\">\n",
              "    <button class=\"colab-df-convert\" onclick=\"convertToInteractive('df-b7440dbd-a862-4d71-9e0d-1c2cd79b2e12')\"\n",
              "            title=\"Convert this dataframe to an interactive table.\"\n",
              "            style=\"display:none;\">\n",
              "\n",
              "  <svg xmlns=\"http://www.w3.org/2000/svg\" height=\"24px\" viewBox=\"0 -960 960 960\">\n",
              "    <path d=\"M120-120v-720h720v720H120Zm60-500h600v-160H180v160Zm220 220h160v-160H400v160Zm0 220h160v-160H400v160ZM180-400h160v-160H180v160Zm440 0h160v-160H620v160ZM180-180h160v-160H180v160Zm440 0h160v-160H620v160Z\"/>\n",
              "  </svg>\n",
              "    </button>\n",
              "\n",
              "  <style>\n",
              "    .colab-df-container {\n",
              "      display:flex;\n",
              "      gap: 12px;\n",
              "    }\n",
              "\n",
              "    .colab-df-convert {\n",
              "      background-color: #E8F0FE;\n",
              "      border: none;\n",
              "      border-radius: 50%;\n",
              "      cursor: pointer;\n",
              "      display: none;\n",
              "      fill: #1967D2;\n",
              "      height: 32px;\n",
              "      padding: 0 0 0 0;\n",
              "      width: 32px;\n",
              "    }\n",
              "\n",
              "    .colab-df-convert:hover {\n",
              "      background-color: #E2EBFA;\n",
              "      box-shadow: 0px 1px 2px rgba(60, 64, 67, 0.3), 0px 1px 3px 1px rgba(60, 64, 67, 0.15);\n",
              "      fill: #174EA6;\n",
              "    }\n",
              "\n",
              "    .colab-df-buttons div {\n",
              "      margin-bottom: 4px;\n",
              "    }\n",
              "\n",
              "    [theme=dark] .colab-df-convert {\n",
              "      background-color: #3B4455;\n",
              "      fill: #D2E3FC;\n",
              "    }\n",
              "\n",
              "    [theme=dark] .colab-df-convert:hover {\n",
              "      background-color: #434B5C;\n",
              "      box-shadow: 0px 1px 3px 1px rgba(0, 0, 0, 0.15);\n",
              "      filter: drop-shadow(0px 1px 2px rgba(0, 0, 0, 0.3));\n",
              "      fill: #FFFFFF;\n",
              "    }\n",
              "  </style>\n",
              "\n",
              "    <script>\n",
              "      const buttonEl =\n",
              "        document.querySelector('#df-b7440dbd-a862-4d71-9e0d-1c2cd79b2e12 button.colab-df-convert');\n",
              "      buttonEl.style.display =\n",
              "        google.colab.kernel.accessAllowed ? 'block' : 'none';\n",
              "\n",
              "      async function convertToInteractive(key) {\n",
              "        const element = document.querySelector('#df-b7440dbd-a862-4d71-9e0d-1c2cd79b2e12');\n",
              "        const dataTable =\n",
              "          await google.colab.kernel.invokeFunction('convertToInteractive',\n",
              "                                                    [key], {});\n",
              "        if (!dataTable) return;\n",
              "\n",
              "        const docLinkHtml = 'Like what you see? Visit the ' +\n",
              "          '<a target=\"_blank\" href=https://colab.research.google.com/notebooks/data_table.ipynb>data table notebook</a>'\n",
              "          + ' to learn more about interactive tables.';\n",
              "        element.innerHTML = '';\n",
              "        dataTable['output_type'] = 'display_data';\n",
              "        await google.colab.output.renderOutput(dataTable, element);\n",
              "        const docLink = document.createElement('div');\n",
              "        docLink.innerHTML = docLinkHtml;\n",
              "        element.appendChild(docLink);\n",
              "      }\n",
              "    </script>\n",
              "  </div>\n",
              "\n",
              "\n",
              "<div id=\"df-b2901957-152a-49f3-8f1f-62bdc55cabc4\">\n",
              "  <button class=\"colab-df-quickchart\" onclick=\"quickchart('df-b2901957-152a-49f3-8f1f-62bdc55cabc4')\"\n",
              "            title=\"Suggest charts\"\n",
              "            style=\"display:none;\">\n",
              "\n",
              "<svg xmlns=\"http://www.w3.org/2000/svg\" height=\"24px\"viewBox=\"0 0 24 24\"\n",
              "     width=\"24px\">\n",
              "    <g>\n",
              "        <path d=\"M19 3H5c-1.1 0-2 .9-2 2v14c0 1.1.9 2 2 2h14c1.1 0 2-.9 2-2V5c0-1.1-.9-2-2-2zM9 17H7v-7h2v7zm4 0h-2V7h2v10zm4 0h-2v-4h2v4z\"/>\n",
              "    </g>\n",
              "</svg>\n",
              "  </button>\n",
              "\n",
              "<style>\n",
              "  .colab-df-quickchart {\n",
              "      --bg-color: #E8F0FE;\n",
              "      --fill-color: #1967D2;\n",
              "      --hover-bg-color: #E2EBFA;\n",
              "      --hover-fill-color: #174EA6;\n",
              "      --disabled-fill-color: #AAA;\n",
              "      --disabled-bg-color: #DDD;\n",
              "  }\n",
              "\n",
              "  [theme=dark] .colab-df-quickchart {\n",
              "      --bg-color: #3B4455;\n",
              "      --fill-color: #D2E3FC;\n",
              "      --hover-bg-color: #434B5C;\n",
              "      --hover-fill-color: #FFFFFF;\n",
              "      --disabled-bg-color: #3B4455;\n",
              "      --disabled-fill-color: #666;\n",
              "  }\n",
              "\n",
              "  .colab-df-quickchart {\n",
              "    background-color: var(--bg-color);\n",
              "    border: none;\n",
              "    border-radius: 50%;\n",
              "    cursor: pointer;\n",
              "    display: none;\n",
              "    fill: var(--fill-color);\n",
              "    height: 32px;\n",
              "    padding: 0;\n",
              "    width: 32px;\n",
              "  }\n",
              "\n",
              "  .colab-df-quickchart:hover {\n",
              "    background-color: var(--hover-bg-color);\n",
              "    box-shadow: 0 1px 2px rgba(60, 64, 67, 0.3), 0 1px 3px 1px rgba(60, 64, 67, 0.15);\n",
              "    fill: var(--button-hover-fill-color);\n",
              "  }\n",
              "\n",
              "  .colab-df-quickchart-complete:disabled,\n",
              "  .colab-df-quickchart-complete:disabled:hover {\n",
              "    background-color: var(--disabled-bg-color);\n",
              "    fill: var(--disabled-fill-color);\n",
              "    box-shadow: none;\n",
              "  }\n",
              "\n",
              "  .colab-df-spinner {\n",
              "    border: 2px solid var(--fill-color);\n",
              "    border-color: transparent;\n",
              "    border-bottom-color: var(--fill-color);\n",
              "    animation:\n",
              "      spin 1s steps(1) infinite;\n",
              "  }\n",
              "\n",
              "  @keyframes spin {\n",
              "    0% {\n",
              "      border-color: transparent;\n",
              "      border-bottom-color: var(--fill-color);\n",
              "      border-left-color: var(--fill-color);\n",
              "    }\n",
              "    20% {\n",
              "      border-color: transparent;\n",
              "      border-left-color: var(--fill-color);\n",
              "      border-top-color: var(--fill-color);\n",
              "    }\n",
              "    30% {\n",
              "      border-color: transparent;\n",
              "      border-left-color: var(--fill-color);\n",
              "      border-top-color: var(--fill-color);\n",
              "      border-right-color: var(--fill-color);\n",
              "    }\n",
              "    40% {\n",
              "      border-color: transparent;\n",
              "      border-right-color: var(--fill-color);\n",
              "      border-top-color: var(--fill-color);\n",
              "    }\n",
              "    60% {\n",
              "      border-color: transparent;\n",
              "      border-right-color: var(--fill-color);\n",
              "    }\n",
              "    80% {\n",
              "      border-color: transparent;\n",
              "      border-right-color: var(--fill-color);\n",
              "      border-bottom-color: var(--fill-color);\n",
              "    }\n",
              "    90% {\n",
              "      border-color: transparent;\n",
              "      border-bottom-color: var(--fill-color);\n",
              "    }\n",
              "  }\n",
              "</style>\n",
              "\n",
              "  <script>\n",
              "    async function quickchart(key) {\n",
              "      const quickchartButtonEl =\n",
              "        document.querySelector('#' + key + ' button');\n",
              "      quickchartButtonEl.disabled = true;  // To prevent multiple clicks.\n",
              "      quickchartButtonEl.classList.add('colab-df-spinner');\n",
              "      try {\n",
              "        const charts = await google.colab.kernel.invokeFunction(\n",
              "            'suggestCharts', [key], {});\n",
              "      } catch (error) {\n",
              "        console.error('Error during call to suggestCharts:', error);\n",
              "      }\n",
              "      quickchartButtonEl.classList.remove('colab-df-spinner');\n",
              "      quickchartButtonEl.classList.add('colab-df-quickchart-complete');\n",
              "    }\n",
              "    (() => {\n",
              "      let quickchartButtonEl =\n",
              "        document.querySelector('#df-b2901957-152a-49f3-8f1f-62bdc55cabc4 button');\n",
              "      quickchartButtonEl.style.display =\n",
              "        google.colab.kernel.accessAllowed ? 'block' : 'none';\n",
              "    })();\n",
              "  </script>\n",
              "</div>\n",
              "\n",
              "    </div>\n",
              "  </div>\n"
            ],
            "text/plain": [
              "   MedInc  HouseAge  AveRooms  AveBedrms  Population  AveOccup  Latitude  \\\n",
              "0  8.3252      41.0  6.984127   1.023810       322.0  2.555556     37.88   \n",
              "1  8.3014      21.0  6.238137   0.971880      2401.0  2.109842     37.86   \n",
              "2  7.2574      52.0  8.288136   1.073446       496.0  2.802260     37.85   \n",
              "3  5.6431      52.0  5.817352   1.073059       558.0  2.547945     37.85   \n",
              "4  3.8462      52.0  6.281853   1.081081       565.0  2.181467     37.85   \n",
              "\n",
              "   Longitude  MedHouseVal  \n",
              "0    -122.23        4.526  \n",
              "1    -122.22        3.585  \n",
              "2    -122.24        3.521  \n",
              "3    -122.25        3.413  \n",
              "4    -122.25        3.422  "
            ]
          },
          "execution_count": 56,
          "metadata": {},
          "output_type": "execute_result"
        }
      ],
      "source": [
        "california_housing = pd.DataFrame(data.data, columns=data.feature_names)\n",
        "california_housing['MedHouseVal'] = data.target\n",
        "california_housing.head()"
      ]
    },
    {
      "cell_type": "code",
      "execution_count": 57,
      "metadata": {
        "colab": {
          "base_uri": "https://localhost:8080/",
          "height": 366
        },
        "id": "wxJS134BACNi",
        "outputId": "06d288f2-83d4-48cc-989d-b0ef1d414a9d"
      },
      "outputs": [
        {
          "data": {
            "text/html": [
              "<div>\n",
              "<style scoped>\n",
              "    .dataframe tbody tr th:only-of-type {\n",
              "        vertical-align: middle;\n",
              "    }\n",
              "\n",
              "    .dataframe tbody tr th {\n",
              "        vertical-align: top;\n",
              "    }\n",
              "\n",
              "    .dataframe thead th {\n",
              "        text-align: right;\n",
              "    }\n",
              "</style>\n",
              "<table border=\"1\" class=\"dataframe\">\n",
              "  <thead>\n",
              "    <tr style=\"text-align: right;\">\n",
              "      <th></th>\n",
              "      <th>0</th>\n",
              "    </tr>\n",
              "  </thead>\n",
              "  <tbody>\n",
              "    <tr>\n",
              "      <th>MedInc</th>\n",
              "      <td>0</td>\n",
              "    </tr>\n",
              "    <tr>\n",
              "      <th>HouseAge</th>\n",
              "      <td>0</td>\n",
              "    </tr>\n",
              "    <tr>\n",
              "      <th>AveRooms</th>\n",
              "      <td>0</td>\n",
              "    </tr>\n",
              "    <tr>\n",
              "      <th>AveBedrms</th>\n",
              "      <td>0</td>\n",
              "    </tr>\n",
              "    <tr>\n",
              "      <th>Population</th>\n",
              "      <td>0</td>\n",
              "    </tr>\n",
              "    <tr>\n",
              "      <th>AveOccup</th>\n",
              "      <td>0</td>\n",
              "    </tr>\n",
              "    <tr>\n",
              "      <th>Latitude</th>\n",
              "      <td>0</td>\n",
              "    </tr>\n",
              "    <tr>\n",
              "      <th>Longitude</th>\n",
              "      <td>0</td>\n",
              "    </tr>\n",
              "    <tr>\n",
              "      <th>MedHouseVal</th>\n",
              "      <td>0</td>\n",
              "    </tr>\n",
              "  </tbody>\n",
              "</table>\n",
              "</div><br><label><b>dtype:</b> int64</label>"
            ],
            "text/plain": [
              "MedInc         0\n",
              "HouseAge       0\n",
              "AveRooms       0\n",
              "AveBedrms      0\n",
              "Population     0\n",
              "AveOccup       0\n",
              "Latitude       0\n",
              "Longitude      0\n",
              "MedHouseVal    0\n",
              "dtype: int64"
            ]
          },
          "execution_count": 57,
          "metadata": {},
          "output_type": "execute_result"
        }
      ],
      "source": [
        "california_housing.isnull().sum()"
      ]
    },
    {
      "cell_type": "markdown",
      "metadata": {
        "id": "MPxl2-QkgnTg"
      },
      "source": [
        "### 1.3 Data Splitting and Scaling\n"
      ]
    },
    {
      "cell_type": "code",
      "execution_count": 58,
      "metadata": {
        "id": "L9BA9Ckv_hCc"
      },
      "outputs": [],
      "source": [
        "X = california_housing.drop('MedHouseVal', axis=1)\n",
        "y = california_housing['MedHouseVal']"
      ]
    },
    {
      "cell_type": "code",
      "execution_count": 59,
      "metadata": {
        "id": "mbXUTiwx_oyx"
      },
      "outputs": [],
      "source": [
        "from sklearn.model_selection import train_test_split\n",
        "from sklearn.preprocessing import StandardScaler\n",
        "\n",
        "# Initial split: Train+Validation and Test\n",
        "X_train_val, X_test, y_train_val, y_test = train_test_split(X, y, test_size=0.2, random_state=42)\n",
        "\n",
        "# Second split: Train and Validation\n",
        "X_train, X_val, y_train, y_val = train_test_split(X_train_val, y_train_val, test_size=0.25, random_state=42)\n",
        "scaler = StandardScaler()\n",
        "X_train = scaler.fit_transform(X_train)\n",
        "X_val = scaler.transform(X_val)\n",
        "X_test = scaler.transform(X_test)"
      ]
    },
    {
      "cell_type": "markdown",
      "metadata": {
        "id": "CrzUn9nGgtt0"
      },
      "source": [
        "## 2. Model Building\n"
      ]
    },
    {
      "cell_type": "markdown",
      "metadata": {
        "id": "-D2j1AuAg0g0"
      },
      "source": [
        "### 2.1 Define the Linear Regression Model"
      ]
    },
    {
      "cell_type": "code",
      "execution_count": 60,
      "metadata": {
        "id": "sQPSrD8cAYjh"
      },
      "outputs": [],
      "source": [
        "class Linear_Regression(nn.Module):\n",
        "    def __init__(self, X_features, output_dim):\n",
        "        super(Linear_Regression, self).__init__()\n",
        "        self.weights_of_hidden_layer1 = nn.Parameter(torch.tensor(torch.rand(X_features, 32), requires_grad=True))\n",
        "        self.bias_of_hidden_layer1 = nn.Parameter(torch.tensor(torch.rand(32), requires_grad=True))\n",
        "\n",
        "        self.weights_of_hidden_layer2 = nn.Parameter(torch.tensor(torch.rand(32, 16), requires_grad=True))\n",
        "        self.bias_of_hidden_layer2 = nn.Parameter(torch.tensor(torch.rand(16), requires_grad=True))\n",
        "\n",
        "        self.weights_of_hidden_layer3 = nn.Parameter(torch.tensor(torch.rand(16, 8), requires_grad=True))\n",
        "        self.bias_of_hidden_layer3 = nn.Parameter(torch.tensor(torch.rand(8), requires_grad=True))\n",
        "\n",
        "        self.weights_of_output_layer = nn.Parameter(torch.tensor(torch.rand(8, 1), requires_grad=True))\n",
        "        self.bias_of_output_layer = nn.Parameter(torch.tensor(torch.rand(1), requires_grad=True))\n",
        "\n",
        "    def forward(self, x):\n",
        "        hidden_layer1_input = torch.matmul(x, self.weights_of_hidden_layer1) + self.bias_of_hidden_layer1\n",
        "        hidden_layer1_output = F.relu(hidden_layer1_input)\n",
        "\n",
        "        hidden_layer2_input = torch.matmul(hidden_layer1_output, self.weights_of_hidden_layer2) + self.bias_of_hidden_layer2\n",
        "        hidden_layer2_output = F.relu(hidden_layer2_input)\n",
        "\n",
        "        hidden_layer3_input = torch.matmul(hidden_layer2_output, self.weights_of_hidden_layer3) + self.bias_of_hidden_layer3\n",
        "        hidden_layer3_output = F.relu(hidden_layer3_input)\n",
        "\n",
        "        final_output = torch.matmul(hidden_layer3_output, self.weights_of_output_layer) + self.bias_of_output_layer\n",
        "\n",
        "        return final_output\n",
        "\n"
      ]
    },
    {
      "cell_type": "markdown",
      "metadata": {
        "id": "UJsGDfY3hsxL"
      },
      "source": [
        "## 3. Model Training"
      ]
    },
    {
      "cell_type": "markdown",
      "metadata": {
        "id": "KsIKAwKwh7iZ"
      },
      "source": [
        "### 3.1 Define the Training Function"
      ]
    },
    {
      "cell_type": "code",
      "execution_count": 61,
      "metadata": {
        "id": "UxHf4UOtH0Pr"
      },
      "outputs": [],
      "source": [
        "def train_model(model, train_data, val_data, n_epoch, training_batch_size, val_batch_size, loss_fn, optimizer):\n",
        "        # init training data loader\n",
        "        train_loader = DataLoader(dataset=train_data, batch_size=training_batch_size, shuffle=True)\n",
        "        val_loader = DataLoader(dataset=val_data, batch_size=val_batch_size, shuffle=True)\n",
        "        # Training loop\n",
        "        train_losses = []\n",
        "        val_losses = []\n",
        "\n",
        "        for epoch in range(n_epoch):\n",
        "            total_train_epoch_loss = 0\n",
        "            total_val_epoch_loss = 0\n",
        "            for x_batch, y_batch in train_loader:  # Process mini-batches\n",
        "                model.train()\n",
        "\n",
        "                # Forward pass\n",
        "                yhat = model(x_batch)\n",
        "                loss = loss_fn(yhat, y_batch)\n",
        "\n",
        "                # Backward pass\n",
        "                optimizer.zero_grad()\n",
        "                loss.backward()\n",
        "                optimizer.step()\n",
        "\n",
        "                total_train_epoch_loss += loss.item()\n",
        "\n",
        "            avg_train_loss = total_train_epoch_loss / len(train_loader)\n",
        "            # Store train loss\n",
        "            train_losses.append(loss.item())\n",
        "            print(f\"Epoch {epoch+1}, Train Loss: {avg_train_loss:.4f}\", end = '')\n",
        "\n",
        "            with torch.no_grad():\n",
        "                for X_val, y_val in val_loader:\n",
        "                    model.eval()\n",
        "                    yhat = model(X_val)\n",
        "                    val_loss = loss_fn(yhat, y_val)\n",
        "                    total_val_epoch_loss += val_loss.item()\n",
        "\n",
        "            avg_val_loss = total_val_epoch_loss / len(val_loader)\n",
        "            # Store train loss\n",
        "            val_losses.append(val_loss.item())\n",
        "            print(f\"    Validation Loss: {avg_val_loss:.4f}\")\n",
        "\n",
        "        return train_losses, val_losses"
      ]
    },
    {
      "cell_type": "markdown",
      "metadata": {
        "id": "tdlvecTwiFHW"
      },
      "source": [
        "### 3.2 Create Datasets and Train the Model"
      ]
    },
    {
      "cell_type": "code",
      "execution_count": 62,
      "metadata": {
        "id": "j9eARcr0iIH2"
      },
      "outputs": [],
      "source": [
        "def get_dataset(X, y):\n",
        "    dataset = TensorDataset(torch.from_numpy(X).float(), torch.from_numpy(y.values).float())\n",
        "    return dataset"
      ]
    },
    {
      "cell_type": "code",
      "execution_count": 63,
      "metadata": {
        "id": "FmM-rmvdix5s"
      },
      "outputs": [],
      "source": [
        "train_data = get_dataset(X_train, y_train)\n",
        "val_data = get_dataset(X_val, y_val)\n",
        "test_data = get_dataset(X_test, y_test)"
      ]
    },
    {
      "cell_type": "code",
      "execution_count": 64,
      "metadata": {
        "colab": {
          "base_uri": "https://localhost:8080/"
        },
        "id": "hUxGZCOBjREk",
        "outputId": "1c5c988f-602e-4a6e-8bdf-0638c92cb677"
      },
      "outputs": [
        {
          "name": "stderr",
          "output_type": "stream",
          "text": [
            "<ipython-input-60-13a13e686e09>:4: UserWarning: To copy construct from a tensor, it is recommended to use sourceTensor.clone().detach() or sourceTensor.clone().detach().requires_grad_(True), rather than torch.tensor(sourceTensor).\n",
            "  self.weights_of_hidden_layer1 = nn.Parameter(torch.tensor(torch.rand(X_features, 32), requires_grad=True))\n",
            "<ipython-input-60-13a13e686e09>:5: UserWarning: To copy construct from a tensor, it is recommended to use sourceTensor.clone().detach() or sourceTensor.clone().detach().requires_grad_(True), rather than torch.tensor(sourceTensor).\n",
            "  self.bias_of_hidden_layer1 = nn.Parameter(torch.tensor(torch.rand(32), requires_grad=True))\n",
            "<ipython-input-60-13a13e686e09>:7: UserWarning: To copy construct from a tensor, it is recommended to use sourceTensor.clone().detach() or sourceTensor.clone().detach().requires_grad_(True), rather than torch.tensor(sourceTensor).\n",
            "  self.weights_of_hidden_layer2 = nn.Parameter(torch.tensor(torch.rand(32, 16), requires_grad=True))\n",
            "<ipython-input-60-13a13e686e09>:8: UserWarning: To copy construct from a tensor, it is recommended to use sourceTensor.clone().detach() or sourceTensor.clone().detach().requires_grad_(True), rather than torch.tensor(sourceTensor).\n",
            "  self.bias_of_hidden_layer2 = nn.Parameter(torch.tensor(torch.rand(16), requires_grad=True))\n",
            "<ipython-input-60-13a13e686e09>:10: UserWarning: To copy construct from a tensor, it is recommended to use sourceTensor.clone().detach() or sourceTensor.clone().detach().requires_grad_(True), rather than torch.tensor(sourceTensor).\n",
            "  self.weights_of_hidden_layer3 = nn.Parameter(torch.tensor(torch.rand(16, 8), requires_grad=True))\n",
            "<ipython-input-60-13a13e686e09>:11: UserWarning: To copy construct from a tensor, it is recommended to use sourceTensor.clone().detach() or sourceTensor.clone().detach().requires_grad_(True), rather than torch.tensor(sourceTensor).\n",
            "  self.bias_of_hidden_layer3 = nn.Parameter(torch.tensor(torch.rand(8), requires_grad=True))\n",
            "<ipython-input-60-13a13e686e09>:13: UserWarning: To copy construct from a tensor, it is recommended to use sourceTensor.clone().detach() or sourceTensor.clone().detach().requires_grad_(True), rather than torch.tensor(sourceTensor).\n",
            "  self.weights_of_output_layer = nn.Parameter(torch.tensor(torch.rand(8, 1), requires_grad=True))\n",
            "<ipython-input-60-13a13e686e09>:14: UserWarning: To copy construct from a tensor, it is recommended to use sourceTensor.clone().detach() or sourceTensor.clone().detach().requires_grad_(True), rather than torch.tensor(sourceTensor).\n",
            "  self.bias_of_output_layer = nn.Parameter(torch.tensor(torch.rand(1), requires_grad=True))\n",
            "/usr/local/lib/python3.10/dist-packages/torch/nn/modules/loss.py:608: UserWarning: Using a target size (torch.Size([1238])) that is different to the input size (torch.Size([1238, 1])). This will likely lead to incorrect results due to broadcasting. Please ensure they have the same size.\n",
            "  return F.mse_loss(input, target, reduction=self.reduction)\n",
            "/usr/local/lib/python3.10/dist-packages/torch/nn/modules/loss.py:608: UserWarning: Using a target size (torch.Size([4])) that is different to the input size (torch.Size([4, 1])). This will likely lead to incorrect results due to broadcasting. Please ensure they have the same size.\n",
            "  return F.mse_loss(input, target, reduction=self.reduction)\n"
          ]
        },
        {
          "name": "stdout",
          "output_type": "stream",
          "text": [
            "Epoch 1, Train Loss: 83982.1003    Validation Loss: 19.1910\n"
          ]
        },
        {
          "name": "stderr",
          "output_type": "stream",
          "text": [
            "/usr/local/lib/python3.10/dist-packages/torch/nn/modules/loss.py:608: UserWarning: Using a target size (torch.Size([4128])) that is different to the input size (torch.Size([4128, 1])). This will likely lead to incorrect results due to broadcasting. Please ensure they have the same size.\n",
            "  return F.mse_loss(input, target, reduction=self.reduction)\n"
          ]
        },
        {
          "name": "stdout",
          "output_type": "stream",
          "text": [
            "Epoch 2, Train Loss: 15.9647    Validation Loss: 12.7913\n",
            "Epoch 3, Train Loss: 11.0559    Validation Loss: 8.6360\n",
            "Epoch 4, Train Loss: 7.3261    Validation Loss: 6.0362\n",
            "Epoch 5, Train Loss: 5.2159    Validation Loss: 4.3433\n",
            "Epoch 6, Train Loss: 3.9910    Validation Loss: 3.2223\n",
            "Epoch 7, Train Loss: 2.9727    Validation Loss: 2.5231\n",
            "Epoch 8, Train Loss: 2.3608    Validation Loss: 2.0827\n",
            "Epoch 9, Train Loss: 1.8992    Validation Loss: 1.8414\n",
            "Epoch 10, Train Loss: 1.6691    Validation Loss: 1.6651\n",
            "Epoch 11, Train Loss: 1.5689    Validation Loss: 1.5519\n",
            "Epoch 12, Train Loss: 1.4665    Validation Loss: 1.4769\n",
            "Epoch 13, Train Loss: 1.3932    Validation Loss: 1.4413\n",
            "Epoch 14, Train Loss: 1.4341    Validation Loss: 1.4111\n",
            "Epoch 15, Train Loss: 1.2556    Validation Loss: 1.3958\n",
            "Epoch 16, Train Loss: 1.4220    Validation Loss: 1.3951\n",
            "Epoch 17, Train Loss: 1.3471    Validation Loss: 1.3840\n",
            "Epoch 18, Train Loss: 1.3046    Validation Loss: 1.3792\n",
            "Epoch 19, Train Loss: 1.2870    Validation Loss: 1.3753\n",
            "Epoch 20, Train Loss: 1.3105    Validation Loss: 1.3748\n",
            "Epoch 21, Train Loss: 1.2490    Validation Loss: 1.3735\n",
            "Epoch 22, Train Loss: 1.2316    Validation Loss: 1.3733\n",
            "Epoch 23, Train Loss: 1.2428    Validation Loss: 1.3732\n",
            "Epoch 24, Train Loss: 1.2500    Validation Loss: 1.3732\n",
            "Epoch 25, Train Loss: 1.2529    Validation Loss: 1.3736\n",
            "Epoch 26, Train Loss: 1.5157    Validation Loss: 1.3731\n",
            "Epoch 27, Train Loss: 1.4300    Validation Loss: 1.3731\n",
            "Epoch 28, Train Loss: 1.3133    Validation Loss: 1.3733\n",
            "Epoch 29, Train Loss: 1.3083    Validation Loss: 1.3743\n",
            "Epoch 30, Train Loss: 1.2558    Validation Loss: 1.3745\n"
          ]
        }
      ],
      "source": [
        "model1 = Linear_Regression(X_train.shape[1], 1);\n",
        "optimizer = optim.SGD(model1.parameters(), lr=0.01)\n",
        "loss_fn = nn.MSELoss()\n",
        "train_losses_of_model1, val_losses_of_model1 = train_model(model1, train_data, val_data, n_epoch=30, training_batch_size=int(len(X_train)/10), val_batch_size=int(len(X_val)/10), loss_fn=loss_fn, optimizer=optimizer)"
      ]
    },
    {
      "cell_type": "markdown",
      "metadata": {
        "id": "4AlvMAD5jhDk"
      },
      "source": [
        "## 4. Model Evaluation"
      ]
    },
    {
      "cell_type": "markdown",
      "metadata": {
        "id": "P4n_8U1cjqwt"
      },
      "source": [
        "### 4.1 Define the Evaluation Function"
      ]
    },
    {
      "cell_type": "code",
      "execution_count": 65,
      "metadata": {
        "id": "0BgavvJ4dCCO"
      },
      "outputs": [],
      "source": [
        "# Evaluation function\n",
        "def evaluate_model(model, test_data):\n",
        "\n",
        "    test_loader = DataLoader(dataset=test_data, batch_size=len(test_data), shuffle=True)\n",
        "    model.eval()\n",
        "\n",
        "    mse_loss_fn = nn.MSELoss(reduction='mean')\n",
        "    mae_loss_fn = nn.L1Loss(reduction='mean')\n",
        "\n",
        "    mse_total = 0\n",
        "    mae_total = 0\n",
        "    num_samples = 0\n",
        "\n",
        "    with torch.no_grad():\n",
        "        for X_test, y_test in test_loader:\n",
        "            y_pred = model(X_test)\n",
        "            mse_total += mse_loss_fn(y_pred, y_test).item()\n",
        "            mae_total += mae_loss_fn(y_pred, y_test).item()\n",
        "            #num_samples += y_test.size(0)\n",
        "\n",
        "    #mse = mse_total / num_samples\n",
        "    #mae = mae_total / num_samples\n",
        "    return mse_total, mae_total\n"
      ]
    },
    {
      "cell_type": "markdown",
      "metadata": {
        "id": "0pTz57kCjxcd"
      },
      "source": [
        "### 4.2 Evaluate Model Performance\n"
      ]
    },
    {
      "cell_type": "code",
      "execution_count": 66,
      "metadata": {
        "colab": {
          "base_uri": "https://localhost:8080/"
        },
        "id": "jYHSH-8cj0V-",
        "outputId": "259aaa03-8552-495b-f492-610dfc77f3b8"
      },
      "outputs": [
        {
          "name": "stdout",
          "output_type": "stream",
          "text": [
            "Mean Squared Error on test data: 1.3104913234710693\n",
            "Mean Absoulute Error on test data: 0.9009730219841003\n"
          ]
        },
        {
          "name": "stderr",
          "output_type": "stream",
          "text": [
            "/usr/local/lib/python3.10/dist-packages/torch/nn/modules/loss.py:128: UserWarning: Using a target size (torch.Size([4128])) that is different to the input size (torch.Size([4128, 1])). This will likely lead to incorrect results due to broadcasting. Please ensure they have the same size.\n",
            "  return F.l1_loss(input, target, reduction=self.reduction)\n"
          ]
        }
      ],
      "source": [
        "mse_of_model1, mae_of_model1 = evaluate_model(model1, test_data)\n",
        "print(f\"Mean Squared Error on test data: {mse_of_model1}\")\n",
        "print(f\"Mean Absoulute Error on test data: {mae_of_model1}\")"
      ]
    },
    {
      "cell_type": "markdown",
      "metadata": {
        "id": "0JuWrsneT7dz"
      },
      "source": [
        "### 4.3 Plot training vs. validation loss"
      ]
    },
    {
      "cell_type": "code",
      "execution_count": 67,
      "metadata": {
        "id": "esItD9DvT3n3"
      },
      "outputs": [],
      "source": [
        "import matplotlib.pyplot as plt\n",
        "\n",
        "def plot_loss(train_losses, val_losses, title=\"Training vs. Validation Loss\" ):\n",
        "    plt.figure(figsize=(8, 6))\n",
        "    plt.plot(train_losses, label='Training Loss', marker='o')\n",
        "    plt.plot(val_losses, label='Validation Loss', marker='x')\n",
        "\n",
        "    # Adjust y-axis to focus on relevant range\n",
        "    min_loss = min(min(train_losses), min(val_losses))\n",
        "    max_loss = max(max(train_losses), max(val_losses))\n",
        "    plt.ylim([0, min(max_loss * 1.1, 100)])  # Set upper limit dynamically, clamp to 10 for visibility\n",
        "\n",
        "    plt.xlabel('Epochs')\n",
        "    plt.ylabel('Loss')\n",
        "    plt.title(title)\n",
        "    plt.legend()\n",
        "    plt.grid(True)\n",
        "    plt.show()\n"
      ]
    },
    {
      "cell_type": "code",
      "execution_count": 79,
      "metadata": {
        "colab": {
          "base_uri": "https://localhost:8080/",
          "height": 564
        },
        "id": "DPsSj2FVS4uo",
        "outputId": "1896f748-2dce-43e4-e11c-a4b67d2818d1"
      },
      "outputs": [
        {
          "data": {
            "image/png": "[encoded data removed]",
            "text/plain": [
              "<Figure size 800x600 with 1 Axes>"
            ]
          },
          "metadata": {},
          "output_type": "display_data"
        }
      ],
      "source": [
        "plot_loss(train_losses_of_model1, val_losses_of_model1, title='Training vs. Validation Loss for Model 1')"
      ]
    },
    {
      "cell_type": "markdown",
      "metadata": {
        "id": "fUcfo-_dkLzo"
      },
      "source": [
        "## 5. Model Experimentation"
      ]
    },
    {
      "cell_type": "markdown",
      "metadata": {
        "id": "_ds4xDBikPhX"
      },
      "source": [
        "### 5.1 Experiment with Different Hyperparameters"
      ]
    },
    {
      "cell_type": "code",
      "execution_count": 69,
      "metadata": {
        "colab": {
          "base_uri": "https://localhost:8080/"
        },
        "collapsed": true,
        "id": "sw0nRgN9qTVH",
        "outputId": "ff442a25-5fd9-417e-f788-8c1eef3e1b58"
      },
      "outputs": [
        {
          "name": "stderr",
          "output_type": "stream",
          "text": [
            "<ipython-input-60-13a13e686e09>:4: UserWarning: To copy construct from a tensor, it is recommended to use sourceTensor.clone().detach() or sourceTensor.clone().detach().requires_grad_(True), rather than torch.tensor(sourceTensor).\n",
            "  self.weights_of_hidden_layer1 = nn.Parameter(torch.tensor(torch.rand(X_features, 32), requires_grad=True))\n",
            "<ipython-input-60-13a13e686e09>:5: UserWarning: To copy construct from a tensor, it is recommended to use sourceTensor.clone().detach() or sourceTensor.clone().detach().requires_grad_(True), rather than torch.tensor(sourceTensor).\n",
            "  self.bias_of_hidden_layer1 = nn.Parameter(torch.tensor(torch.rand(32), requires_grad=True))\n",
            "<ipython-input-60-13a13e686e09>:7: UserWarning: To copy construct from a tensor, it is recommended to use sourceTensor.clone().detach() or sourceTensor.clone().detach().requires_grad_(True), rather than torch.tensor(sourceTensor).\n",
            "  self.weights_of_hidden_layer2 = nn.Parameter(torch.tensor(torch.rand(32, 16), requires_grad=True))\n",
            "<ipython-input-60-13a13e686e09>:8: UserWarning: To copy construct from a tensor, it is recommended to use sourceTensor.clone().detach() or sourceTensor.clone().detach().requires_grad_(True), rather than torch.tensor(sourceTensor).\n",
            "  self.bias_of_hidden_layer2 = nn.Parameter(torch.tensor(torch.rand(16), requires_grad=True))\n",
            "<ipython-input-60-13a13e686e09>:10: UserWarning: To copy construct from a tensor, it is recommended to use sourceTensor.clone().detach() or sourceTensor.clone().detach().requires_grad_(True), rather than torch.tensor(sourceTensor).\n",
            "  self.weights_of_hidden_layer3 = nn.Parameter(torch.tensor(torch.rand(16, 8), requires_grad=True))\n",
            "<ipython-input-60-13a13e686e09>:11: UserWarning: To copy construct from a tensor, it is recommended to use sourceTensor.clone().detach() or sourceTensor.clone().detach().requires_grad_(True), rather than torch.tensor(sourceTensor).\n",
            "  self.bias_of_hidden_layer3 = nn.Parameter(torch.tensor(torch.rand(8), requires_grad=True))\n",
            "<ipython-input-60-13a13e686e09>:13: UserWarning: To copy construct from a tensor, it is recommended to use sourceTensor.clone().detach() or sourceTensor.clone().detach().requires_grad_(True), rather than torch.tensor(sourceTensor).\n",
            "  self.weights_of_output_layer = nn.Parameter(torch.tensor(torch.rand(8, 1), requires_grad=True))\n",
            "<ipython-input-60-13a13e686e09>:14: UserWarning: To copy construct from a tensor, it is recommended to use sourceTensor.clone().detach() or sourceTensor.clone().detach().requires_grad_(True), rather than torch.tensor(sourceTensor).\n",
            "  self.bias_of_output_layer = nn.Parameter(torch.tensor(torch.rand(1), requires_grad=True))\n",
            "/usr/local/lib/python3.10/dist-packages/torch/nn/modules/loss.py:608: UserWarning: Using a target size (torch.Size([2476])) that is different to the input size (torch.Size([2476, 1])). This will likely lead to incorrect results due to broadcasting. Please ensure they have the same size.\n",
            "  return F.mse_loss(input, target, reduction=self.reduction)\n"
          ]
        },
        {
          "name": "stdout",
          "output_type": "stream",
          "text": [
            "Epoch 1, Train Loss: 791333.3086    Validation Loss: 977.4553\n",
            "Epoch 2, Train Loss: 885.1897    Validation Loss: 767.3894\n",
            "Epoch 3, Train Loss: 692.9411    Validation Loss: 602.7520\n",
            "Epoch 4, Train Loss: 545.8328    Validation Loss: 473.3625\n",
            "Epoch 5, Train Loss: 432.3684    Validation Loss: 371.3369\n",
            "Epoch 6, Train Loss: 332.7320    Validation Loss: 292.1636\n",
            "Epoch 7, Train Loss: 267.9065    Validation Loss: 229.1856\n",
            "Epoch 8, Train Loss: 203.8212    Validation Loss: 180.6160\n",
            "Epoch 9, Train Loss: 165.6685    Validation Loss: 141.7911\n",
            "Epoch 10, Train Loss: 130.6894    Validation Loss: 111.2951\n",
            "Epoch 11, Train Loss: 100.9546    Validation Loss: 87.6123\n",
            "Epoch 12, Train Loss: 78.6020    Validation Loss: 69.1695\n",
            "Epoch 13, Train Loss: 62.9644    Validation Loss: 54.5379\n",
            "Epoch 14, Train Loss: 49.1937    Validation Loss: 43.1499\n",
            "Epoch 15, Train Loss: 37.5283    Validation Loss: 34.3858\n",
            "Epoch 16, Train Loss: 32.2938    Validation Loss: 27.1439\n",
            "Epoch 17, Train Loss: 24.9334    Validation Loss: 21.5565\n",
            "Epoch 18, Train Loss: 20.1870    Validation Loss: 17.1264\n",
            "Epoch 19, Train Loss: 14.9467    Validation Loss: 13.8036\n",
            "Epoch 20, Train Loss: 12.8064    Validation Loss: 11.0946\n",
            "Epoch 21, Train Loss: 10.1673    Validation Loss: 8.9840\n",
            "Epoch 22, Train Loss: 8.3518    Validation Loss: 7.3266\n",
            "Epoch 23, Train Loss: 6.8997    Validation Loss: 6.0079\n",
            "Epoch 24, Train Loss: 6.1546    Validation Loss: 4.9354\n",
            "Epoch 25, Train Loss: 4.3401    Validation Loss: 4.2101\n",
            "Epoch 26, Train Loss: 3.5453    Validation Loss: 3.6430\n",
            "Epoch 27, Train Loss: 3.3804    Validation Loss: 3.1439\n",
            "Epoch 28, Train Loss: 3.1271    Validation Loss: 2.7654\n",
            "Epoch 29, Train Loss: 2.3953    Validation Loss: 2.4647\n",
            "Epoch 30, Train Loss: 2.3255    Validation Loss: 2.2100\n",
            "Epoch 31, Train Loss: 2.3443    Validation Loss: 2.0304\n",
            "Epoch 32, Train Loss: 2.1043    Validation Loss: 1.8952\n",
            "Epoch 33, Train Loss: 2.2815    Validation Loss: 1.8244\n",
            "Epoch 34, Train Loss: 1.7106    Validation Loss: 1.7493\n",
            "Epoch 35, Train Loss: 1.8011    Validation Loss: 1.6747\n",
            "Epoch 36, Train Loss: 1.6582    Validation Loss: 1.5933\n",
            "Epoch 37, Train Loss: 1.4731    Validation Loss: 1.5565\n",
            "Epoch 38, Train Loss: 1.4159    Validation Loss: 1.5098\n",
            "Epoch 39, Train Loss: 1.5383    Validation Loss: 1.4935\n",
            "Epoch 40, Train Loss: 1.2999    Validation Loss: 1.4774\n",
            "Epoch 41, Train Loss: 1.2002    Validation Loss: 1.4571\n",
            "Epoch 42, Train Loss: 1.8053    Validation Loss: 1.4434\n",
            "Epoch 43, Train Loss: 1.5343    Validation Loss: 1.4173\n",
            "Epoch 44, Train Loss: 1.2907    Validation Loss: 1.4044\n",
            "Epoch 45, Train Loss: 1.4877    Validation Loss: 1.4002\n",
            "Epoch 46, Train Loss: 1.2687    Validation Loss: 1.3915\n",
            "Epoch 47, Train Loss: 1.3233    Validation Loss: 1.3907\n",
            "Epoch 48, Train Loss: 1.5472    Validation Loss: 1.3901\n",
            "Epoch 49, Train Loss: 1.3242    Validation Loss: 1.3831\n",
            "Epoch 50, Train Loss: 1.2366    Validation Loss: 1.3792\n"
          ]
        }
      ],
      "source": [
        "model2 = Linear_Regression(X_train.shape[1], 1);\n",
        "optimizer = optim.SGD(model2.parameters(), lr=0.01)\n",
        "loss_fn = nn.MSELoss()\n",
        "train_losses_of_model2, val_losses_of_model2 = train_model(model2, train_data, val_data, n_epoch=50, training_batch_size=int(len(X_train)/5), val_batch_size=int(len(X_val)/5), loss_fn=loss_fn, optimizer=optimizer)"
      ]
    },
    {
      "cell_type": "code",
      "execution_count": 78,
      "metadata": {
        "colab": {
          "base_uri": "https://localhost:8080/",
          "height": 564
        },
        "id": "mI3e5_2SV813",
        "outputId": "6b5b7923-05d5-4d75-8913-5f82d3d1f050"
      },
      "outputs": [
        {
          "data": {
            "image/png": "[encoded data removed]",
            "text/plain": [
              "<Figure size 800x600 with 1 Axes>"
            ]
          },
          "metadata": {},
          "output_type": "display_data"
        }
      ],
      "source": [
        "plot_loss(train_losses_of_model2, val_losses_of_model2, title='Training vs. Validation Loss for Model 2')"
      ]
    },
    {
      "cell_type": "code",
      "execution_count": 75,
      "metadata": {
        "colab": {
          "base_uri": "https://localhost:8080/"
        },
        "id": "z1FHp_SMq3LX",
        "outputId": "04b24b3a-b5ef-4771-c8b9-56c7abf0ebc7"
      },
      "outputs": [
        {
          "name": "stdout",
          "output_type": "stream",
          "text": [
            "Mean Squared Error on test data: 1.3218121528625488\n",
            "Mean Absoulute Error on test data: 0.9260721206665039\n"
          ]
        },
        {
          "name": "stderr",
          "output_type": "stream",
          "text": [
            "/usr/local/lib/python3.10/dist-packages/torch/nn/modules/loss.py:608: UserWarning: Using a target size (torch.Size([4128])) that is different to the input size (torch.Size([4128, 1])). This will likely lead to incorrect results due to broadcasting. Please ensure they have the same size.\n",
            "  return F.mse_loss(input, target, reduction=self.reduction)\n",
            "/usr/local/lib/python3.10/dist-packages/torch/nn/modules/loss.py:128: UserWarning: Using a target size (torch.Size([4128])) that is different to the input size (torch.Size([4128, 1])). This will likely lead to incorrect results due to broadcasting. Please ensure they have the same size.\n",
            "  return F.l1_loss(input, target, reduction=self.reduction)\n"
          ]
        }
      ],
      "source": [
        "# Evaluate the model on the test set\n",
        "mse_of_model2, mae_of_model2 = evaluate_model(model2, test_data)\n",
        "print(f\"Mean Squared Error on test data: {mse_of_model2}\")\n",
        "print(f\"Mean Absoulute Error on test data: {mae_of_model2}\")"
      ]
    },
    {
      "cell_type": "code",
      "execution_count": 72,
      "metadata": {
        "colab": {
          "base_uri": "https://localhost:8080/"
        },
        "collapsed": true,
        "id": "bigrpaDqWhBf",
        "outputId": "b402f9e0-b29e-42b3-aefe-477946a424af"
      },
      "outputs": [
        {
          "name": "stderr",
          "output_type": "stream",
          "text": [
            "<ipython-input-60-13a13e686e09>:4: UserWarning: To copy construct from a tensor, it is recommended to use sourceTensor.clone().detach() or sourceTensor.clone().detach().requires_grad_(True), rather than torch.tensor(sourceTensor).\n",
            "  self.weights_of_hidden_layer1 = nn.Parameter(torch.tensor(torch.rand(X_features, 32), requires_grad=True))\n",
            "<ipython-input-60-13a13e686e09>:5: UserWarning: To copy construct from a tensor, it is recommended to use sourceTensor.clone().detach() or sourceTensor.clone().detach().requires_grad_(True), rather than torch.tensor(sourceTensor).\n",
            "  self.bias_of_hidden_layer1 = nn.Parameter(torch.tensor(torch.rand(32), requires_grad=True))\n",
            "<ipython-input-60-13a13e686e09>:7: UserWarning: To copy construct from a tensor, it is recommended to use sourceTensor.clone().detach() or sourceTensor.clone().detach().requires_grad_(True), rather than torch.tensor(sourceTensor).\n",
            "  self.weights_of_hidden_layer2 = nn.Parameter(torch.tensor(torch.rand(32, 16), requires_grad=True))\n",
            "<ipython-input-60-13a13e686e09>:8: UserWarning: To copy construct from a tensor, it is recommended to use sourceTensor.clone().detach() or sourceTensor.clone().detach().requires_grad_(True), rather than torch.tensor(sourceTensor).\n",
            "  self.bias_of_hidden_layer2 = nn.Parameter(torch.tensor(torch.rand(16), requires_grad=True))\n",
            "<ipython-input-60-13a13e686e09>:10: UserWarning: To copy construct from a tensor, it is recommended to use sourceTensor.clone().detach() or sourceTensor.clone().detach().requires_grad_(True), rather than torch.tensor(sourceTensor).\n",
            "  self.weights_of_hidden_layer3 = nn.Parameter(torch.tensor(torch.rand(16, 8), requires_grad=True))\n",
            "<ipython-input-60-13a13e686e09>:11: UserWarning: To copy construct from a tensor, it is recommended to use sourceTensor.clone().detach() or sourceTensor.clone().detach().requires_grad_(True), rather than torch.tensor(sourceTensor).\n",
            "  self.bias_of_hidden_layer3 = nn.Parameter(torch.tensor(torch.rand(8), requires_grad=True))\n",
            "<ipython-input-60-13a13e686e09>:13: UserWarning: To copy construct from a tensor, it is recommended to use sourceTensor.clone().detach() or sourceTensor.clone().detach().requires_grad_(True), rather than torch.tensor(sourceTensor).\n",
            "  self.weights_of_output_layer = nn.Parameter(torch.tensor(torch.rand(8, 1), requires_grad=True))\n",
            "<ipython-input-60-13a13e686e09>:14: UserWarning: To copy construct from a tensor, it is recommended to use sourceTensor.clone().detach() or sourceTensor.clone().detach().requires_grad_(True), rather than torch.tensor(sourceTensor).\n",
            "  self.bias_of_output_layer = nn.Parameter(torch.tensor(torch.rand(1), requires_grad=True))\n",
            "/usr/local/lib/python3.10/dist-packages/torch/nn/modules/loss.py:608: UserWarning: Using a target size (torch.Size([12384])) that is different to the input size (torch.Size([12384, 1])). This will likely lead to incorrect results due to broadcasting. Please ensure they have the same size.\n",
            "  return F.mse_loss(input, target, reduction=self.reduction)\n"
          ]
        },
        {
          "name": "stdout",
          "output_type": "stream",
          "text": [
            "Epoch 1, Train Loss: 575548.8125    Validation Loss: 7652.5703\n",
            "Epoch 2, Train Loss: 7649.8140    Validation Loss: 4898.5713\n",
            "Epoch 3, Train Loss: 4896.3569    Validation Loss: 3135.9270\n",
            "Epoch 4, Train Loss: 3134.1450    Validation Loss: 2007.7649\n",
            "Epoch 5, Train Loss: 2006.3301    Validation Loss: 1285.6857\n",
            "Epoch 6, Train Loss: 1284.5282    Validation Loss: 823.5107\n",
            "Epoch 7, Train Loss: 822.5748    Validation Loss: 527.6832\n",
            "Epoch 8, Train Loss: 526.9247    Validation Loss: 338.3252\n",
            "Epoch 9, Train Loss: 337.7087    Validation Loss: 217.1134\n",
            "Epoch 10, Train Loss: 216.6104    Validation Loss: 139.5196\n",
            "Epoch 11, Train Loss: 139.1075    Validation Loss: 89.8451\n",
            "Epoch 12, Train Loss: 89.5057    Validation Loss: 58.0418\n",
            "Epoch 13, Train Loss: 57.7605    Validation Loss: 37.6784\n",
            "Epoch 14, Train Loss: 37.4436    Validation Loss: 24.6383\n",
            "Epoch 15, Train Loss: 24.4408    Validation Loss: 16.2868\n",
            "Epoch 16, Train Loss: 16.1189    Validation Loss: 10.9370\n",
            "Epoch 17, Train Loss: 10.7930    Validation Loss: 7.5093\n",
            "Epoch 18, Train Loss: 7.3844    Validation Loss: 5.3126\n",
            "Epoch 19, Train Loss: 5.2029    Validation Loss: 3.9042\n",
            "Epoch 20, Train Loss: 3.8067    Validation Loss: 3.0009\n",
            "Epoch 21, Train Loss: 2.9131    Validation Loss: 2.4212\n",
            "Epoch 22, Train Loss: 2.3413    Validation Loss: 2.0490\n",
            "Epoch 23, Train Loss: 1.9753    Validation Loss: 1.8098\n",
            "Epoch 24, Train Loss: 1.7410    Validation Loss: 1.6558\n",
            "Epoch 25, Train Loss: 1.5911    Validation Loss: 1.5567\n",
            "Epoch 26, Train Loss: 1.4952    Validation Loss: 1.4927\n",
            "Epoch 27, Train Loss: 1.4338    Validation Loss: 1.4514\n",
            "Epoch 28, Train Loss: 1.3945    Validation Loss: 1.4246\n",
            "Epoch 29, Train Loss: 1.3693    Validation Loss: 1.4072\n",
            "Epoch 30, Train Loss: 1.3532    Validation Loss: 1.3959\n",
            "Epoch 31, Train Loss: 1.3429    Validation Loss: 1.3884\n",
            "Epoch 32, Train Loss: 1.3363    Validation Loss: 1.3835\n",
            "Epoch 33, Train Loss: 1.3321    Validation Loss: 1.3803\n",
            "Epoch 34, Train Loss: 1.3294    Validation Loss: 1.3781\n",
            "Epoch 35, Train Loss: 1.3277    Validation Loss: 1.3767\n",
            "Epoch 36, Train Loss: 1.3266    Validation Loss: 1.3757\n",
            "Epoch 37, Train Loss: 1.3259    Validation Loss: 1.3750\n",
            "Epoch 38, Train Loss: 1.3254    Validation Loss: 1.3746\n",
            "Epoch 39, Train Loss: 1.3251    Validation Loss: 1.3742\n",
            "Epoch 40, Train Loss: 1.3249    Validation Loss: 1.3740\n",
            "Epoch 41, Train Loss: 1.3248    Validation Loss: 1.3739\n",
            "Epoch 42, Train Loss: 1.3247    Validation Loss: 1.3737\n",
            "Epoch 43, Train Loss: 1.3247    Validation Loss: 1.3736\n",
            "Epoch 44, Train Loss: 1.3247    Validation Loss: 1.3736\n",
            "Epoch 45, Train Loss: 1.3246    Validation Loss: 1.3735\n",
            "Epoch 46, Train Loss: 1.3246    Validation Loss: 1.3735\n",
            "Epoch 47, Train Loss: 1.3246    Validation Loss: 1.3735\n",
            "Epoch 48, Train Loss: 1.3246    Validation Loss: 1.3734\n",
            "Epoch 49, Train Loss: 1.3246    Validation Loss: 1.3734\n",
            "Epoch 50, Train Loss: 1.3246    Validation Loss: 1.3734\n"
          ]
        }
      ],
      "source": [
        "model3 = Linear_Regression(X_train.shape[1], 1);\n",
        "optimizer = optim.SGD(model3.parameters(), lr=0.1)\n",
        "loss_fn = nn.MSELoss()\n",
        "train_losses_of_model3, val_losses_of_model3 = train_model(model3, train_data, val_data, n_epoch=50, training_batch_size=int(len(X_train)), val_batch_size=int(len(X_val)), loss_fn=loss_fn, optimizer=optimizer)"
      ]
    },
    {
      "cell_type": "code",
      "execution_count": 77,
      "metadata": {
        "colab": {
          "base_uri": "https://localhost:8080/",
          "height": 564
        },
        "id": "5aJDV92YVzhb",
        "outputId": "d35ac7ef-8f71-4bfa-e7ea-078e846b4061"
      },
      "outputs": [
        {
          "data": {
            "image/png": "[encoded data removed]",
            "text/plain": [
              "<Figure size 800x600 with 1 Axes>"
            ]
          },
          "metadata": {},
          "output_type": "display_data"
        }
      ],
      "source": [
        "plot_loss(train_losses_of_model3, val_losses_of_model3, title='Training vs. Validation Loss for Model 3')"
      ]
    },
    {
      "cell_type": "code",
      "execution_count": 74,
      "metadata": {
        "colab": {
          "base_uri": "https://localhost:8080/"
        },
        "id": "P3imbZTqsT6p",
        "outputId": "02d60a92-06e2-42a1-f958-dffd4263a368"
      },
      "outputs": [
        {
          "name": "stdout",
          "output_type": "stream",
          "text": [
            "Mean Squared Error on test data: 1.3218120336532593\n",
            "Mean Absoulute Error on test data: 0.9260720610618591\n"
          ]
        }
      ],
      "source": [
        "mse_of_model3, mae_of_model3 = evaluate_model(model2, test_data)\n",
        "print(f\"Mean Squared Error on test data: {mse_of_model3}\")\n",
        "print(f\"Mean Absoulute Error on test data: {mae_of_model3}\")"
      ]
    },
    {
      "cell_type": "code",
      "execution_count": 74,
      "metadata": {
        "id": "BLB4utF9Ro9-"
      },
      "outputs": [],
      "source": []
    }
  ],
  "metadata": {
    "colab": {
      "provenance": []
    },
    "kernelspec": {
      "display_name": "Python 3",
      "name": "python3"
    },
    "language_info": {
      "name": "python"
    }
  },
  "nbformat": 4,
  "nbformat_minor": 0
}
